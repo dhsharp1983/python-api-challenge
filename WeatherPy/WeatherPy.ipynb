{
 "cells": [
  {
   "cell_type": "code",
   "execution_count": null,
   "metadata": {},
   "outputs": [],
   "source": []
  },
  {
   "cell_type": "code",
   "execution_count": 231,
   "metadata": {},
   "outputs": [],
   "source": [
    "from config import gkey\n",
    "from config import weatherkey\n",
    "from citipy import citipy\n",
    "import numpy as np\n",
    "import pandas as pd\n",
    "import requests\n",
    "import json\n",
    "from pprint import pprint\n",
    "from matplotlib import pyplot as plt\n",
    "from scipy import stats\n",
    "import os"
   ]
  },
  {
   "cell_type": "code",
   "execution_count": null,
   "metadata": {},
   "outputs": [],
   "source": [
    "# # Build Cities Table \n",
    "# # define empty lists\n",
    "# citylist = []\n",
    "# latlist = []\n",
    "# longlist = []\n",
    "# countrycodelist = []\n",
    "# loopcount = 0\n",
    "\n",
    "# # define length of script\n",
    "# MaxCities = 5\n",
    "\n",
    "\n",
    "# # create dataframe \n",
    "# City_df = pd.DataFrame()\n",
    "# header_list = ['Lattitude','Longitude']\n",
    "# City_df = City_df.reindex(columns = header_list)      \n",
    "\n",
    "# # lats and longs\n",
    "# for cities in range(1,(MaxCities +1)):\n",
    "#     cities_lat = round(np.random.uniform(-90, 90),4)\n",
    "#     latlist.append(cities_lat)\n",
    "#     cities_long = round(np.random.uniform(-180, 180),4)\n",
    "#     longlist.append(cities_long)\n",
    "\n",
    "# # append Lattitude and Longitude to DF\n",
    "# City_df['Lattitude'] = pd.Series(latlist)\n",
    "# City_df['Longitude'] = pd.Series(longlist)\n",
    "\n",
    "\n",
    "# # Get Cities from PyCities\n",
    "# for i in range(0,len(City_df['Lattitude'])):\n",
    "#     lat = City_df.iloc[i]['Lattitude']\n",
    "#     long = City_df.iloc[i]['Longitude']\n",
    "#     cityname = citipy.nearest_city(lat,long).city_name.title()\n",
    "#     citycountry = citipy.nearest_city(lat,long).country_code.upper()\n",
    "# #     print(f'{lat} {long} {cityname} {citycountry}')\n",
    "#     citylist.append(cityname)\n",
    "#     countrycodelist.append(citycountry)\n",
    "\n",
    "# # Append Cities to DF\n",
    "# City_df.insert(0,'City',citylist)\n",
    "# City_df.insert(1, 'Country', countrycodelist)\n",
    "# City_df"
   ]
  },
  {
   "cell_type": "code",
   "execution_count": null,
   "metadata": {},
   "outputs": [],
   "source": [
    "# # Edit Dataframe and add columns\n",
    "\n",
    "# City_df['Temperature C'] = \"\"\n",
    "# City_df['Temperature F'] = \"\"\n",
    "# City_df['Revised Lattitude'] = \"\"\n",
    "# City_df['Revised Longitude'] = \"\"\n",
    "# City_df['Humidity %'] = \"\"\n",
    "# City_df['Cloudiness %'] = \"\"\n",
    "# City_df['Wind Speed (mph)'] = \"\"\n",
    "# City_df"
   ]
  },
  {
   "cell_type": "code",
   "execution_count": null,
   "metadata": {},
   "outputs": [],
   "source": [
    "# # api.openweathermap.org/data/2.5/weather?q=London,uk&appid={API key}\n",
    "\n",
    "# # build URL\n",
    "# base_url = 'http://api.openweathermap.org/data/2.5/weather?q='\n",
    "# # city = \"Sao Filipe\"\n",
    "# # country = 'CV'\n",
    "# comma = ','\n",
    "# andsign = '&'\n",
    "\n",
    "\n",
    "# # API GET & JSON\n",
    "# for index, row in City_df.iterrows():\n",
    "#     city = row['City']\n",
    "#     country = row['Country']\n",
    "#     full_url = base_url + city + comma + country + '&appid=' + weatherkey\n",
    "#     response = requests.get(full_url) \n",
    "#     parsed_response = response.json()\n",
    "#     try:\n",
    "#         City_df.at[index,'Temperature C'] = (parsed_response[\"main\"][\"temp_max\"] - 273)\n",
    "#         City_df.at[index,'Temperature F'] = (parsed_response[\"main\"][\"temp_max\"] * 1.8 - 457.6)\n",
    "#         City_df.at[index,'Revised Lattitude'] = parsed_response[\"coord\"][\"lat\"]\n",
    "#         City_df.at[index,'Revised Longitude'] = parsed_response[\"coord\"][\"lon\"]\n",
    "#         City_df.at[index,'Humidity %'] = parsed_response[\"main\"][\"humidity\"]\n",
    "#         City_df.at[index,'Cloudiness %'] = parsed_response[\"clouds\"][\"all\"]\n",
    "#         City_df.at[index,'Wind Speed (mph)'] = (parsed_response[\"wind\"][\"speed\"] * 2.24)\n",
    "#         print('city found: ' + city + \" ,\" + country)\n",
    "#     except:\n",
    "#         print('City ' + city + ' not found! skipping')\n",
    "#         next\n",
    "# #     print(city + \" \" + str(CityTemp))\n",
    "\n",
    "\n"
   ]
  },
  {
   "cell_type": "code",
   "execution_count": 233,
   "metadata": {},
   "outputs": [],
   "source": [
    "savefolder = \"Output/\""
   ]
  },
  {
   "cell_type": "code",
   "execution_count": null,
   "metadata": {},
   "outputs": [],
   "source": [
    "# city = \"Busselton\"\n",
    "# country = 'AU'\n",
    "# full_url = base_url + city + comma + country + '&appid=' + weatherkey\n",
    "# response = requests.get(full_url) \n",
    "# parsed_response = response.json()\n",
    "# # CityTemp = parsed_response[\"main\"][\"temp\"]\n",
    "# pprint(parsed_response)\n"
   ]
  },
  {
   "cell_type": "code",
   "execution_count": null,
   "metadata": {},
   "outputs": [],
   "source": [
    "# if 'Bluff' in City_df['City'].values:\n",
    "#     print('yep!')\n",
    "\n"
   ]
  },
  {
   "cell_type": "code",
   "execution_count": 187,
   "metadata": {},
   "outputs": [
    {
     "data": {
      "text/plain": [
       "City                 object\n",
       "Country              object\n",
       "Lattitude           float64\n",
       "Longitude           float64\n",
       "Temperature C       float64\n",
       "Temperature F       float64\n",
       "Humidity %          float64\n",
       "Cloudiness %        float64\n",
       "Wind Speed (mph)    float64\n",
       "dtype: object"
      ]
     },
     "execution_count": 187,
     "metadata": {},
     "output_type": "execute_result"
    }
   ],
   "source": [
    "# define length of script\n",
    "MaxCities = 20\n",
    "\n",
    "# create dataframe \n",
    "City_df = pd.DataFrame()\n",
    "header_list = ['City','Country','Lattitude','Longitude','Temperature C','Temperature F','Humidity %','Cloudiness %','Wind Speed (mph)']\n",
    "City_df = City_df.reindex(columns = header_list)\n",
    "City_df['City']= City_df['City'].astype(str)\n",
    "City_df['Country']= City_df['Country'].astype(str)\n",
    "City_df.dtypes"
   ]
  },
  {
   "cell_type": "code",
   "execution_count": 188,
   "metadata": {},
   "outputs": [
    {
     "name": "stdout",
     "output_type": "stream",
     "text": [
      "city found: Tuktoyaktuk ,CA\n",
      "city found: Butaritari ,KI\n",
      "city found: Punta Arenas ,CL\n",
      "city found: Jamestown ,SH\n",
      "Punta Arenas is a Duplicate City, Restart!\n",
      "City Cockburn Harbour not found! skipping!\n",
      "city found: Los Llanos De Aridane ,ES\n",
      "city found: Amapa ,BR\n",
      "city found: Bowen ,AU\n",
      "city found: Torbay ,CA\n",
      "city found: Chulym ,RU\n",
      "city found: Vanimo ,PG\n",
      "City Sidi Bu Zayd not found! skipping!\n",
      "city found: Artyom ,AZ\n",
      "city found: George ,ZA\n",
      "city found: Castro ,CL\n",
      "city found: Nikolskoye ,RU\n",
      "Tuktoyaktuk is a Duplicate City, Restart!\n",
      "city found: Hermanus ,ZA\n",
      "city found: Cape Town ,ZA\n",
      "city found: Cabo San Lucas ,MX\n",
      "city found: Ushuaia ,AR\n",
      "City Mataura not found! skipping!\n",
      "city found: Caravelas ,BR\n",
      "city found: Leningradskiy ,RU\n",
      "city found: Provideniya ,RU\n",
      "city found: Kavieng ,PG\n",
      "Butaritari is a Duplicate City, Restart!\n",
      "City Suao not found! skipping!\n",
      "city found: Hilo ,US\n",
      "City Mataura not found! skipping!\n",
      "Hermanus is a Duplicate City, Restart!\n",
      "city found: Arraial Do Cabo ,BR\n",
      "city found: Tevriz ,RU\n",
      "city found: Saint-Augustin ,CA\n",
      "Tuktoyaktuk is a Duplicate City, Restart!\n",
      "city found: Bafilo ,TG\n",
      "City Goderich not found! skipping!\n",
      "city found: Te Anau ,NZ\n",
      "City Belushya Guba not found! skipping!\n",
      "city found: Komsomolskiy ,RU\n",
      "city found: Kaitangata ,NZ\n",
      "city found: Busselton ,AU\n",
      "city found: Praia Da Vitoria ,PT\n",
      "Busselton is a Duplicate City, Restart!\n",
      "Jamestown is a Duplicate City, Restart!\n",
      "Hermanus is a Duplicate City, Restart!\n",
      "city found: Port Hardy ,CA\n",
      "city found: Bluff ,NZ\n",
      "city found: Thompson ,CA\n",
      "city found: Barrow ,US\n",
      "city found: Virginia Beach ,US\n",
      "Castro is a Duplicate City, Restart!\n",
      "Jamestown is a Duplicate City, Restart!\n",
      "City Barentsburg not found! skipping!\n",
      "city found: Norman Wells ,CA\n",
      "city found: Atuona ,PF\n",
      "city found: Port Elizabeth ,ZA\n"
     ]
    },
    {
     "data": {
      "text/html": [
       "<div>\n",
       "<style scoped>\n",
       "    .dataframe tbody tr th:only-of-type {\n",
       "        vertical-align: middle;\n",
       "    }\n",
       "\n",
       "    .dataframe tbody tr th {\n",
       "        vertical-align: top;\n",
       "    }\n",
       "\n",
       "    .dataframe thead th {\n",
       "        text-align: right;\n",
       "    }\n",
       "</style>\n",
       "<table border=\"1\" class=\"dataframe\">\n",
       "  <thead>\n",
       "    <tr style=\"text-align: right;\">\n",
       "      <th></th>\n",
       "      <th>City</th>\n",
       "      <th>Country</th>\n",
       "      <th>Lattitude</th>\n",
       "      <th>Longitude</th>\n",
       "      <th>Temperature C</th>\n",
       "      <th>Temperature F</th>\n",
       "      <th>Humidity %</th>\n",
       "      <th>Cloudiness %</th>\n",
       "      <th>Wind Speed (mph)</th>\n",
       "    </tr>\n",
       "  </thead>\n",
       "  <tbody>\n",
       "    <tr>\n",
       "      <th>0</th>\n",
       "      <td>Tuktoyaktuk</td>\n",
       "      <td>CA</td>\n",
       "      <td>69.4541</td>\n",
       "      <td>-133.0374</td>\n",
       "      <td>-26.29</td>\n",
       "      <td>-13.522</td>\n",
       "      <td>99.0</td>\n",
       "      <td>78.0</td>\n",
       "      <td>8.7360</td>\n",
       "    </tr>\n",
       "    <tr>\n",
       "      <th>1</th>\n",
       "      <td>Butaritari</td>\n",
       "      <td>KI</td>\n",
       "      <td>3.0707</td>\n",
       "      <td>172.7902</td>\n",
       "      <td>27.92</td>\n",
       "      <td>84.056</td>\n",
       "      <td>79.0</td>\n",
       "      <td>9.0</td>\n",
       "      <td>19.1296</td>\n",
       "    </tr>\n",
       "    <tr>\n",
       "      <th>2</th>\n",
       "      <td>Punta Arenas</td>\n",
       "      <td>CL</td>\n",
       "      <td>-53.1500</td>\n",
       "      <td>-70.9167</td>\n",
       "      <td>4.15</td>\n",
       "      <td>41.270</td>\n",
       "      <td>81.0</td>\n",
       "      <td>0.0</td>\n",
       "      <td>13.8208</td>\n",
       "    </tr>\n",
       "    <tr>\n",
       "      <th>3</th>\n",
       "      <td>Jamestown</td>\n",
       "      <td>SH</td>\n",
       "      <td>-15.9387</td>\n",
       "      <td>-5.7168</td>\n",
       "      <td>20.92</td>\n",
       "      <td>71.456</td>\n",
       "      <td>78.0</td>\n",
       "      <td>18.0</td>\n",
       "      <td>20.5632</td>\n",
       "    </tr>\n",
       "    <tr>\n",
       "      <th>4</th>\n",
       "      <td>Los Llanos De Aridane</td>\n",
       "      <td>ES</td>\n",
       "      <td>28.6585</td>\n",
       "      <td>-17.9182</td>\n",
       "      <td>17.15</td>\n",
       "      <td>64.670</td>\n",
       "      <td>59.0</td>\n",
       "      <td>75.0</td>\n",
       "      <td>10.3712</td>\n",
       "    </tr>\n",
       "    <tr>\n",
       "      <th>5</th>\n",
       "      <td>Amapa</td>\n",
       "      <td>BR</td>\n",
       "      <td>1.0000</td>\n",
       "      <td>-52.0000</td>\n",
       "      <td>21.24</td>\n",
       "      <td>72.032</td>\n",
       "      <td>99.0</td>\n",
       "      <td>100.0</td>\n",
       "      <td>1.5680</td>\n",
       "    </tr>\n",
       "    <tr>\n",
       "      <th>6</th>\n",
       "      <td>Bowen</td>\n",
       "      <td>AU</td>\n",
       "      <td>-20.0167</td>\n",
       "      <td>148.2333</td>\n",
       "      <td>28.15</td>\n",
       "      <td>84.470</td>\n",
       "      <td>74.0</td>\n",
       "      <td>98.0</td>\n",
       "      <td>13.8208</td>\n",
       "    </tr>\n",
       "    <tr>\n",
       "      <th>7</th>\n",
       "      <td>Torbay</td>\n",
       "      <td>CA</td>\n",
       "      <td>47.6666</td>\n",
       "      <td>-52.7314</td>\n",
       "      <td>-2.07</td>\n",
       "      <td>30.074</td>\n",
       "      <td>93.0</td>\n",
       "      <td>90.0</td>\n",
       "      <td>19.6000</td>\n",
       "    </tr>\n",
       "    <tr>\n",
       "      <th>8</th>\n",
       "      <td>Chulym</td>\n",
       "      <td>RU</td>\n",
       "      <td>55.0997</td>\n",
       "      <td>80.9572</td>\n",
       "      <td>0.80</td>\n",
       "      <td>35.240</td>\n",
       "      <td>73.0</td>\n",
       "      <td>100.0</td>\n",
       "      <td>17.0016</td>\n",
       "    </tr>\n",
       "    <tr>\n",
       "      <th>9</th>\n",
       "      <td>Vanimo</td>\n",
       "      <td>PG</td>\n",
       "      <td>-2.6741</td>\n",
       "      <td>141.3028</td>\n",
       "      <td>27.36</td>\n",
       "      <td>83.048</td>\n",
       "      <td>83.0</td>\n",
       "      <td>100.0</td>\n",
       "      <td>4.5472</td>\n",
       "    </tr>\n",
       "    <tr>\n",
       "      <th>10</th>\n",
       "      <td>Artyom</td>\n",
       "      <td>AZ</td>\n",
       "      <td>40.4723</td>\n",
       "      <td>50.3330</td>\n",
       "      <td>11.15</td>\n",
       "      <td>53.870</td>\n",
       "      <td>71.0</td>\n",
       "      <td>0.0</td>\n",
       "      <td>16.1280</td>\n",
       "    </tr>\n",
       "    <tr>\n",
       "      <th>11</th>\n",
       "      <td>George</td>\n",
       "      <td>ZA</td>\n",
       "      <td>-33.9630</td>\n",
       "      <td>22.4617</td>\n",
       "      <td>20.15</td>\n",
       "      <td>70.070</td>\n",
       "      <td>77.0</td>\n",
       "      <td>40.0</td>\n",
       "      <td>9.2288</td>\n",
       "    </tr>\n",
       "    <tr>\n",
       "      <th>12</th>\n",
       "      <td>Castro</td>\n",
       "      <td>CL</td>\n",
       "      <td>-42.4721</td>\n",
       "      <td>-73.7732</td>\n",
       "      <td>11.26</td>\n",
       "      <td>54.068</td>\n",
       "      <td>93.0</td>\n",
       "      <td>0.0</td>\n",
       "      <td>5.7568</td>\n",
       "    </tr>\n",
       "    <tr>\n",
       "      <th>13</th>\n",
       "      <td>Nikolskoye</td>\n",
       "      <td>RU</td>\n",
       "      <td>59.7035</td>\n",
       "      <td>30.7861</td>\n",
       "      <td>-3.18</td>\n",
       "      <td>28.076</td>\n",
       "      <td>54.0</td>\n",
       "      <td>20.0</td>\n",
       "      <td>15.6800</td>\n",
       "    </tr>\n",
       "    <tr>\n",
       "      <th>14</th>\n",
       "      <td>Hermanus</td>\n",
       "      <td>ZA</td>\n",
       "      <td>-34.4187</td>\n",
       "      <td>19.2345</td>\n",
       "      <td>17.93</td>\n",
       "      <td>66.074</td>\n",
       "      <td>92.0</td>\n",
       "      <td>99.0</td>\n",
       "      <td>12.7008</td>\n",
       "    </tr>\n",
       "    <tr>\n",
       "      <th>15</th>\n",
       "      <td>Cape Town</td>\n",
       "      <td>ZA</td>\n",
       "      <td>-33.9258</td>\n",
       "      <td>18.4232</td>\n",
       "      <td>21.15</td>\n",
       "      <td>71.870</td>\n",
       "      <td>56.0</td>\n",
       "      <td>75.0</td>\n",
       "      <td>23.0496</td>\n",
       "    </tr>\n",
       "    <tr>\n",
       "      <th>16</th>\n",
       "      <td>Cabo San Lucas</td>\n",
       "      <td>MX</td>\n",
       "      <td>22.8909</td>\n",
       "      <td>-109.9124</td>\n",
       "      <td>16.26</td>\n",
       "      <td>63.068</td>\n",
       "      <td>46.0</td>\n",
       "      <td>0.0</td>\n",
       "      <td>4.6816</td>\n",
       "    </tr>\n",
       "    <tr>\n",
       "      <th>17</th>\n",
       "      <td>Ushuaia</td>\n",
       "      <td>AR</td>\n",
       "      <td>-54.8000</td>\n",
       "      <td>-68.3000</td>\n",
       "      <td>4.15</td>\n",
       "      <td>41.270</td>\n",
       "      <td>87.0</td>\n",
       "      <td>90.0</td>\n",
       "      <td>23.0496</td>\n",
       "    </tr>\n",
       "    <tr>\n",
       "      <th>18</th>\n",
       "      <td>Caravelas</td>\n",
       "      <td>BR</td>\n",
       "      <td>-17.7125</td>\n",
       "      <td>-39.2481</td>\n",
       "      <td>22.95</td>\n",
       "      <td>75.110</td>\n",
       "      <td>91.0</td>\n",
       "      <td>3.0</td>\n",
       "      <td>1.0752</td>\n",
       "    </tr>\n",
       "    <tr>\n",
       "      <th>19</th>\n",
       "      <td>Leningradskiy</td>\n",
       "      <td>RU</td>\n",
       "      <td>69.3833</td>\n",
       "      <td>178.4167</td>\n",
       "      <td>-26.58</td>\n",
       "      <td>-14.044</td>\n",
       "      <td>87.0</td>\n",
       "      <td>100.0</td>\n",
       "      <td>3.5616</td>\n",
       "    </tr>\n",
       "    <tr>\n",
       "      <th>20</th>\n",
       "      <td>Provideniya</td>\n",
       "      <td>RU</td>\n",
       "      <td>64.3833</td>\n",
       "      <td>-173.3000</td>\n",
       "      <td>-19.65</td>\n",
       "      <td>-1.570</td>\n",
       "      <td>88.0</td>\n",
       "      <td>100.0</td>\n",
       "      <td>18.3904</td>\n",
       "    </tr>\n",
       "    <tr>\n",
       "      <th>21</th>\n",
       "      <td>Kavieng</td>\n",
       "      <td>PG</td>\n",
       "      <td>-2.5744</td>\n",
       "      <td>150.7967</td>\n",
       "      <td>28.91</td>\n",
       "      <td>85.838</td>\n",
       "      <td>75.0</td>\n",
       "      <td>100.0</td>\n",
       "      <td>9.3632</td>\n",
       "    </tr>\n",
       "    <tr>\n",
       "      <th>22</th>\n",
       "      <td>Hilo</td>\n",
       "      <td>US</td>\n",
       "      <td>19.7297</td>\n",
       "      <td>-155.0900</td>\n",
       "      <td>19.15</td>\n",
       "      <td>68.270</td>\n",
       "      <td>88.0</td>\n",
       "      <td>90.0</td>\n",
       "      <td>6.9216</td>\n",
       "    </tr>\n",
       "    <tr>\n",
       "      <th>23</th>\n",
       "      <td>Arraial Do Cabo</td>\n",
       "      <td>BR</td>\n",
       "      <td>-22.9661</td>\n",
       "      <td>-42.0278</td>\n",
       "      <td>24.58</td>\n",
       "      <td>78.044</td>\n",
       "      <td>89.0</td>\n",
       "      <td>0.0</td>\n",
       "      <td>14.8736</td>\n",
       "    </tr>\n",
       "    <tr>\n",
       "      <th>24</th>\n",
       "      <td>Tevriz</td>\n",
       "      <td>RU</td>\n",
       "      <td>57.5090</td>\n",
       "      <td>72.4042</td>\n",
       "      <td>-1.34</td>\n",
       "      <td>31.388</td>\n",
       "      <td>93.0</td>\n",
       "      <td>100.0</td>\n",
       "      <td>8.5344</td>\n",
       "    </tr>\n",
       "    <tr>\n",
       "      <th>25</th>\n",
       "      <td>Saint-Augustin</td>\n",
       "      <td>CA</td>\n",
       "      <td>51.2260</td>\n",
       "      <td>-58.6502</td>\n",
       "      <td>-20.19</td>\n",
       "      <td>-2.542</td>\n",
       "      <td>85.0</td>\n",
       "      <td>25.0</td>\n",
       "      <td>12.7680</td>\n",
       "    </tr>\n",
       "    <tr>\n",
       "      <th>26</th>\n",
       "      <td>Bafilo</td>\n",
       "      <td>TG</td>\n",
       "      <td>9.3500</td>\n",
       "      <td>1.2667</td>\n",
       "      <td>27.15</td>\n",
       "      <td>82.670</td>\n",
       "      <td>65.0</td>\n",
       "      <td>0.0</td>\n",
       "      <td>2.3072</td>\n",
       "    </tr>\n",
       "    <tr>\n",
       "      <th>27</th>\n",
       "      <td>Te Anau</td>\n",
       "      <td>NZ</td>\n",
       "      <td>-45.4167</td>\n",
       "      <td>167.7167</td>\n",
       "      <td>10.90</td>\n",
       "      <td>53.420</td>\n",
       "      <td>95.0</td>\n",
       "      <td>0.0</td>\n",
       "      <td>3.3824</td>\n",
       "    </tr>\n",
       "    <tr>\n",
       "      <th>28</th>\n",
       "      <td>Komsomolskiy</td>\n",
       "      <td>RU</td>\n",
       "      <td>43.9783</td>\n",
       "      <td>46.6985</td>\n",
       "      <td>11.91</td>\n",
       "      <td>55.238</td>\n",
       "      <td>48.0</td>\n",
       "      <td>25.0</td>\n",
       "      <td>12.2080</td>\n",
       "    </tr>\n",
       "    <tr>\n",
       "      <th>29</th>\n",
       "      <td>Kaitangata</td>\n",
       "      <td>NZ</td>\n",
       "      <td>-46.2817</td>\n",
       "      <td>169.8464</td>\n",
       "      <td>11.24</td>\n",
       "      <td>54.032</td>\n",
       "      <td>94.0</td>\n",
       "      <td>47.0</td>\n",
       "      <td>5.0624</td>\n",
       "    </tr>\n",
       "    <tr>\n",
       "      <th>30</th>\n",
       "      <td>Busselton</td>\n",
       "      <td>AU</td>\n",
       "      <td>-33.6500</td>\n",
       "      <td>115.3333</td>\n",
       "      <td>34.04</td>\n",
       "      <td>95.072</td>\n",
       "      <td>24.0</td>\n",
       "      <td>10.0</td>\n",
       "      <td>1.9936</td>\n",
       "    </tr>\n",
       "    <tr>\n",
       "      <th>31</th>\n",
       "      <td>Praia Da Vitoria</td>\n",
       "      <td>PT</td>\n",
       "      <td>38.7333</td>\n",
       "      <td>-27.0667</td>\n",
       "      <td>14.59</td>\n",
       "      <td>60.062</td>\n",
       "      <td>82.0</td>\n",
       "      <td>40.0</td>\n",
       "      <td>13.3280</td>\n",
       "    </tr>\n",
       "    <tr>\n",
       "      <th>32</th>\n",
       "      <td>Port Hardy</td>\n",
       "      <td>CA</td>\n",
       "      <td>50.6996</td>\n",
       "      <td>-127.4199</td>\n",
       "      <td>6.15</td>\n",
       "      <td>44.870</td>\n",
       "      <td>93.0</td>\n",
       "      <td>90.0</td>\n",
       "      <td>2.3072</td>\n",
       "    </tr>\n",
       "    <tr>\n",
       "      <th>33</th>\n",
       "      <td>Bluff</td>\n",
       "      <td>NZ</td>\n",
       "      <td>-46.6000</td>\n",
       "      <td>168.3333</td>\n",
       "      <td>14.04</td>\n",
       "      <td>59.072</td>\n",
       "      <td>87.0</td>\n",
       "      <td>37.0</td>\n",
       "      <td>9.0048</td>\n",
       "    </tr>\n",
       "    <tr>\n",
       "      <th>34</th>\n",
       "      <td>Thompson</td>\n",
       "      <td>CA</td>\n",
       "      <td>55.7435</td>\n",
       "      <td>-97.8558</td>\n",
       "      <td>3.15</td>\n",
       "      <td>39.470</td>\n",
       "      <td>75.0</td>\n",
       "      <td>75.0</td>\n",
       "      <td>5.7568</td>\n",
       "    </tr>\n",
       "    <tr>\n",
       "      <th>35</th>\n",
       "      <td>Barrow</td>\n",
       "      <td>US</td>\n",
       "      <td>71.2906</td>\n",
       "      <td>-156.7887</td>\n",
       "      <td>-26.85</td>\n",
       "      <td>-14.530</td>\n",
       "      <td>83.0</td>\n",
       "      <td>1.0</td>\n",
       "      <td>5.7568</td>\n",
       "    </tr>\n",
       "    <tr>\n",
       "      <th>36</th>\n",
       "      <td>Virginia Beach</td>\n",
       "      <td>US</td>\n",
       "      <td>36.8529</td>\n",
       "      <td>-75.9780</td>\n",
       "      <td>6.15</td>\n",
       "      <td>44.870</td>\n",
       "      <td>52.0</td>\n",
       "      <td>40.0</td>\n",
       "      <td>12.6784</td>\n",
       "    </tr>\n",
       "    <tr>\n",
       "      <th>37</th>\n",
       "      <td>Norman Wells</td>\n",
       "      <td>CA</td>\n",
       "      <td>65.2820</td>\n",
       "      <td>-126.8329</td>\n",
       "      <td>-20.85</td>\n",
       "      <td>-3.730</td>\n",
       "      <td>77.0</td>\n",
       "      <td>75.0</td>\n",
       "      <td>13.8208</td>\n",
       "    </tr>\n",
       "    <tr>\n",
       "      <th>38</th>\n",
       "      <td>Atuona</td>\n",
       "      <td>PF</td>\n",
       "      <td>-9.8000</td>\n",
       "      <td>-139.0333</td>\n",
       "      <td>26.78</td>\n",
       "      <td>82.004</td>\n",
       "      <td>72.0</td>\n",
       "      <td>86.0</td>\n",
       "      <td>10.8416</td>\n",
       "    </tr>\n",
       "    <tr>\n",
       "      <th>39</th>\n",
       "      <td>Port Elizabeth</td>\n",
       "      <td>ZA</td>\n",
       "      <td>-33.9180</td>\n",
       "      <td>25.5701</td>\n",
       "      <td>20.15</td>\n",
       "      <td>70.070</td>\n",
       "      <td>94.0</td>\n",
       "      <td>90.0</td>\n",
       "      <td>4.6144</td>\n",
       "    </tr>\n",
       "  </tbody>\n",
       "</table>\n",
       "</div>"
      ],
      "text/plain": [
       "                     City Country  Lattitude  Longitude  Temperature C  \\\n",
       "0             Tuktoyaktuk      CA    69.4541  -133.0374         -26.29   \n",
       "1              Butaritari      KI     3.0707   172.7902          27.92   \n",
       "2            Punta Arenas      CL   -53.1500   -70.9167           4.15   \n",
       "3               Jamestown      SH   -15.9387    -5.7168          20.92   \n",
       "4   Los Llanos De Aridane      ES    28.6585   -17.9182          17.15   \n",
       "5                   Amapa      BR     1.0000   -52.0000          21.24   \n",
       "6                   Bowen      AU   -20.0167   148.2333          28.15   \n",
       "7                  Torbay      CA    47.6666   -52.7314          -2.07   \n",
       "8                  Chulym      RU    55.0997    80.9572           0.80   \n",
       "9                  Vanimo      PG    -2.6741   141.3028          27.36   \n",
       "10                 Artyom      AZ    40.4723    50.3330          11.15   \n",
       "11                 George      ZA   -33.9630    22.4617          20.15   \n",
       "12                 Castro      CL   -42.4721   -73.7732          11.26   \n",
       "13             Nikolskoye      RU    59.7035    30.7861          -3.18   \n",
       "14               Hermanus      ZA   -34.4187    19.2345          17.93   \n",
       "15              Cape Town      ZA   -33.9258    18.4232          21.15   \n",
       "16         Cabo San Lucas      MX    22.8909  -109.9124          16.26   \n",
       "17                Ushuaia      AR   -54.8000   -68.3000           4.15   \n",
       "18              Caravelas      BR   -17.7125   -39.2481          22.95   \n",
       "19          Leningradskiy      RU    69.3833   178.4167         -26.58   \n",
       "20            Provideniya      RU    64.3833  -173.3000         -19.65   \n",
       "21                Kavieng      PG    -2.5744   150.7967          28.91   \n",
       "22                   Hilo      US    19.7297  -155.0900          19.15   \n",
       "23        Arraial Do Cabo      BR   -22.9661   -42.0278          24.58   \n",
       "24                 Tevriz      RU    57.5090    72.4042          -1.34   \n",
       "25         Saint-Augustin      CA    51.2260   -58.6502         -20.19   \n",
       "26                 Bafilo      TG     9.3500     1.2667          27.15   \n",
       "27                Te Anau      NZ   -45.4167   167.7167          10.90   \n",
       "28           Komsomolskiy      RU    43.9783    46.6985          11.91   \n",
       "29             Kaitangata      NZ   -46.2817   169.8464          11.24   \n",
       "30              Busselton      AU   -33.6500   115.3333          34.04   \n",
       "31       Praia Da Vitoria      PT    38.7333   -27.0667          14.59   \n",
       "32             Port Hardy      CA    50.6996  -127.4199           6.15   \n",
       "33                  Bluff      NZ   -46.6000   168.3333          14.04   \n",
       "34               Thompson      CA    55.7435   -97.8558           3.15   \n",
       "35                 Barrow      US    71.2906  -156.7887         -26.85   \n",
       "36         Virginia Beach      US    36.8529   -75.9780           6.15   \n",
       "37           Norman Wells      CA    65.2820  -126.8329         -20.85   \n",
       "38                 Atuona      PF    -9.8000  -139.0333          26.78   \n",
       "39         Port Elizabeth      ZA   -33.9180    25.5701          20.15   \n",
       "\n",
       "    Temperature F  Humidity %  Cloudiness %  Wind Speed (mph)  \n",
       "0         -13.522        99.0          78.0            8.7360  \n",
       "1          84.056        79.0           9.0           19.1296  \n",
       "2          41.270        81.0           0.0           13.8208  \n",
       "3          71.456        78.0          18.0           20.5632  \n",
       "4          64.670        59.0          75.0           10.3712  \n",
       "5          72.032        99.0         100.0            1.5680  \n",
       "6          84.470        74.0          98.0           13.8208  \n",
       "7          30.074        93.0          90.0           19.6000  \n",
       "8          35.240        73.0         100.0           17.0016  \n",
       "9          83.048        83.0         100.0            4.5472  \n",
       "10         53.870        71.0           0.0           16.1280  \n",
       "11         70.070        77.0          40.0            9.2288  \n",
       "12         54.068        93.0           0.0            5.7568  \n",
       "13         28.076        54.0          20.0           15.6800  \n",
       "14         66.074        92.0          99.0           12.7008  \n",
       "15         71.870        56.0          75.0           23.0496  \n",
       "16         63.068        46.0           0.0            4.6816  \n",
       "17         41.270        87.0          90.0           23.0496  \n",
       "18         75.110        91.0           3.0            1.0752  \n",
       "19        -14.044        87.0         100.0            3.5616  \n",
       "20         -1.570        88.0         100.0           18.3904  \n",
       "21         85.838        75.0         100.0            9.3632  \n",
       "22         68.270        88.0          90.0            6.9216  \n",
       "23         78.044        89.0           0.0           14.8736  \n",
       "24         31.388        93.0         100.0            8.5344  \n",
       "25         -2.542        85.0          25.0           12.7680  \n",
       "26         82.670        65.0           0.0            2.3072  \n",
       "27         53.420        95.0           0.0            3.3824  \n",
       "28         55.238        48.0          25.0           12.2080  \n",
       "29         54.032        94.0          47.0            5.0624  \n",
       "30         95.072        24.0          10.0            1.9936  \n",
       "31         60.062        82.0          40.0           13.3280  \n",
       "32         44.870        93.0          90.0            2.3072  \n",
       "33         59.072        87.0          37.0            9.0048  \n",
       "34         39.470        75.0          75.0            5.7568  \n",
       "35        -14.530        83.0           1.0            5.7568  \n",
       "36         44.870        52.0          40.0           12.6784  \n",
       "37         -3.730        77.0          75.0           13.8208  \n",
       "38         82.004        72.0          86.0           10.8416  \n",
       "39         70.070        94.0          90.0            4.6144  "
      ]
     },
     "execution_count": 188,
     "metadata": {},
     "output_type": "execute_result"
    }
   ],
   "source": [
    "loopcount = 0\n",
    "MaxCities = 40\n",
    "\n",
    "savefolder = \"Output/\"\n",
    "\n",
    "while loopcount < MaxCities:\n",
    "    rowlist = []\n",
    "    # set random lats and longs\n",
    "    rand_lat = round(np.random.uniform(-90, 90),4)\n",
    "    rand_long = round(np.random.uniform(-180, 180),4)\n",
    "#     print(str(rand_lat) + \" \" + str(rand_long))\n",
    "    # get city name and counry \n",
    "    cityname = citipy.nearest_city(rand_lat,rand_long).city_name.title()\n",
    "    citycountry = citipy.nearest_city(rand_lat,rand_long).country_code.upper()\n",
    "#     print(cityname + \" \" + citycountry)\n",
    "    # test if city name already in list, and restart if so\n",
    "    if cityname in City_df['City'].values:\n",
    "        print(f'{cityname} is a Duplicate City, Skipping.')\n",
    "        continue\n",
    "    # generate url and hit API \n",
    "    full_url = base_url + cityname + comma + citycountry + '&appid=' + weatherkey\n",
    "    response = requests.get(full_url) \n",
    "    parsed_response = response.json()\n",
    "    # attempt to load data into DF, if city was found and values can be parsed \n",
    "    try:\n",
    "        City_df.at[loopcount, 'City']  = cityname    \n",
    "        City_df.at[loopcount, 'Country'] = citycountry\n",
    "        City_df.at[loopcount, 'Temperature C'] = (parsed_response[\"main\"][\"temp_max\"] - 273)\n",
    "        City_df.at[loopcount, 'Temperature F'] = (parsed_response[\"main\"][\"temp_max\"] * 1.8 - 457.6)\n",
    "        City_df.at[loopcount, 'Lattitude'] = parsed_response[\"coord\"][\"lat\"]\n",
    "        City_df.at[loopcount, 'Longitude'] = parsed_response[\"coord\"][\"lon\"]\n",
    "        City_df.at[loopcount, 'Humidity %'] = parsed_response[\"main\"][\"humidity\"]\n",
    "        City_df.at[loopcount, 'Cloudiness %'] = parsed_response[\"clouds\"][\"all\"]\n",
    "        City_df.at[loopcount, 'Wind Speed (mph)'] = (parsed_response[\"wind\"][\"speed\"] * 2.24)\n",
    "        print('City found: ' + cityname + \" ,\" + citycountry)\n",
    "        loopcount = loopcount + 1\n",
    "    except:\n",
    "        print('City ' + cityname + ' not found in API! Skipping.')\n",
    "        \n",
    "    \n",
    "    \n",
    "#         City_df.at[index,'Country'] = citycountry\n",
    "#         City_df.at[index,'Temperature C'] = (parsed_response[\"main\"][\"temp_max\"] - 273)\n",
    "#         City_df.at[index,'Temperature F'] = (parsed_response[\"main\"][\"temp_max\"] * 1.8 - 457.6)\n",
    "#         City_df.at[index,'Lattitude'] = parsed_response[\"coord\"][\"lat\"]\n",
    "#         City_df.at[index,'Longitude'] = parsed_response[\"coord\"][\"lon\"]\n",
    "#         City_df.at[index,'Humidity %'] = parsed_response[\"main\"][\"humidity\"]\n",
    "#         City_df.at[index,'Cloudiness %'] = parsed_response[\"clouds\"][\"all\"]\n",
    "#         City_df.at[index,'Wind Speed (mph)'] = (parsed_response[\"wind\"][\"speed\"] * 2.24)\n",
    "\n",
    "\n",
    "\n",
    "    \n",
    "    \n",
    "City_df"
   ]
  },
  {
   "cell_type": "code",
   "execution_count": 222,
   "metadata": {},
   "outputs": [
    {
     "data": {
      "text/plain": [
       "(-40.0, 40.0)"
      ]
     },
     "execution_count": 222,
     "metadata": {},
     "output_type": "execute_result"
    },
    {
     "data": {
      "image/png": "[encoded data removed]",
      "text/plain": [
       "<Figure size 432x288 with 1 Axes>"
      ]
     },
     "metadata": {
      "needs_background": "light"
     },
     "output_type": "display_data"
    }
   ],
   "source": [
    "fig1 = plt.scatter(City_df['Lattitude'],City_df['Temperature C'])\n",
    "plt.title('Lattitude vs Temperature')\n",
    "plt.xlabel('Lattitude')\n",
    "plt.xlim(-80, 80)\n",
    "plt.ylabel('Temperature C')\n",
    "plt.ylim(-40,40)\n",
    "plt.show()"
   ]
  },
  {
   "cell_type": "code",
   "execution_count": 225,
   "metadata": {},
   "outputs": [
    {
     "data": {
      "text/plain": [
       "(0.0, 105.0)"
      ]
     },
     "execution_count": 225,
     "metadata": {},
     "output_type": "execute_result"
    },
    {
     "data": {
      "image/png": "[encoded data removed]",
      "text/plain": [
       "<Figure size 432x288 with 1 Axes>"
      ]
     },
     "metadata": {
      "needs_background": "light"
     },
     "output_type": "display_data"
    }
   ],
   "source": [
    "fig2 = plt.scatter(City_df['Lattitude'],City_df['Humidity %'])\n",
    "plt.title('Lattitude vs Humidity')\n",
    "plt.xlabel('Lattitude')\n",
    "plt.xlim(-80, 80)\n",
    "plt.ylabel('Humidity %')\n",
    "plt.ylim(0,105)\n",
    "plt.show()"
   ]
  },
  {
   "cell_type": "code",
   "execution_count": 229,
   "metadata": {},
   "outputs": [
    {
     "data": {
      "image/png": "[encoded data removed]",
      "text/plain": [
       "<Figure size 432x288 with 1 Axes>"
      ]
     },
     "metadata": {
      "needs_background": "light"
     },
     "output_type": "display_data"
    }
   ],
   "source": [
    "fig3 = plt.scatter(City_df['Lattitude'],City_df['Cloudiness %'])\n",
    "plt.title('Lattitude vs Cloudiness')\n",
    "plt.xlabel('Lattitude')\n",
    "plt.xlim(-80, 80)\n",
    "plt.ylabel('Cloudiness %')\n",
    "plt.ylim(-2,102)\n",
    "plt.show()"
   ]
  },
  {
   "cell_type": "code",
   "execution_count": 230,
   "metadata": {},
   "outputs": [
    {
     "data": {
      "image/png": "[encoded data removed]",
      "text/plain": [
       "<Figure size 432x288 with 1 Axes>"
      ]
     },
     "metadata": {
      "needs_background": "light"
     },
     "output_type": "display_data"
    }
   ],
   "source": [
    "fig4 = plt.scatter(City_df['Lattitude'],City_df['Wind Speed (mph)'])\n",
    "plt.title('Lattitude vs Wind Speed')\n",
    "plt.xlabel('Lattitude')\n",
    "plt.xlim(-80, 80)\n",
    "plt.ylabel('Wind Speed (mph)')\n",
    "plt.ylim(-2,35)\n",
    "plt.show()"
   ]
  },
  {
   "cell_type": "code",
   "execution_count": 193,
   "metadata": {},
   "outputs": [],
   "source": [
    "# Hemispheric Analysis\n",
    "\n",
    "NorthernHemisphere_df = City_df.loc[(City_df['Lattitude'] < 0)]\n",
    "SouthernHemisphere_df = City_df.loc[(City_df['Lattitude'] > 0)]\n",
    "\n"
   ]
  },
  {
   "cell_type": "code",
   "execution_count": 194,
   "metadata": {},
   "outputs": [
    {
     "data": {
      "text/plain": [
       "[<matplotlib.lines.Line2D at 0x1beca2148d0>]"
      ]
     },
     "execution_count": 194,
     "metadata": {},
     "output_type": "execute_result"
    },
    {
     "data": {
      "image/png": "[encoded data removed]",
      "text/plain": [
       "<Figure size 432x288 with 1 Axes>"
      ]
     },
     "metadata": {
      "needs_background": "light"
     },
     "output_type": "display_data"
    }
   ],
   "source": [
    "graph1 = plt.scatter(NorthernHemisphere_df['Lattitude'],NorthernHemisphere_df['Temperature C'])\n",
    "plt.xlabel('Lattitude')\n",
    "plt.ylabel('Temperature')\n",
    "plt.title('Northern Hemisphere Temperature vs Lattitude')\n",
    "g1_slope, g1_int, g1_r, g1_p, g1_std_err = stats.linregress(NorthernHemisphere_df['Lattitude'],NorthernHemisphere_df['Temperature C'])\n",
    "g1_fit = g1_slope * NorthernHemisphere_df['Lattitude'] + g1_int\n",
    "plt.plot(NorthernHemisphere_df['Lattitude'],g1_fit,\"--\")"
   ]
  },
  {
   "cell_type": "code",
   "execution_count": 195,
   "metadata": {},
   "outputs": [
    {
     "data": {
      "text/plain": [
       "[<matplotlib.lines.Line2D at 0x1beca690be0>]"
      ]
     },
     "execution_count": 195,
     "metadata": {},
     "output_type": "execute_result"
    },
    {
     "data": {
      "image/png": "[encoded data removed]",
      "text/plain": [
       "<Figure size 432x288 with 1 Axes>"
      ]
     },
     "metadata": {
      "needs_background": "light"
     },
     "output_type": "display_data"
    }
   ],
   "source": [
    "graph2 = plt.scatter(SouthernHemisphere_df['Lattitude'],SouthernHemisphere_df['Temperature C'])\n",
    "plt.xlabel('Lattitude')\n",
    "plt.ylabel('Temperature')\n",
    "plt.title('Southern Hemisphere Temperature vs Lattitude')\n",
    "g2_slope, g2_int, g2_r, g2_p, g2_std_err = stats.linregress(SouthernHemisphere_df['Lattitude'],SouthernHemisphere_df['Temperature C'])\n",
    "g2_fit = g2_slope * SouthernHemisphere_df['Lattitude'] + g2_int\n",
    "plt.plot(SouthernHemisphere_df['Lattitude'],g2_fit,\"--\")"
   ]
  },
  {
   "cell_type": "code",
   "execution_count": 196,
   "metadata": {},
   "outputs": [
    {
     "data": {
      "text/plain": [
       "[<matplotlib.lines.Line2D at 0x1becab16518>]"
      ]
     },
     "execution_count": 196,
     "metadata": {},
     "output_type": "execute_result"
    },
    {
     "data": {
      "image/png": "[encoded data removed]",
      "text/plain": [
       "<Figure size 432x288 with 1 Axes>"
      ]
     },
     "metadata": {
      "needs_background": "light"
     },
     "output_type": "display_data"
    }
   ],
   "source": [
    "graph3 = plt.scatter(NorthernHemisphere_df['Lattitude'],NorthernHemisphere_df['Humidity %'])\n",
    "plt.xlabel('Lattitude')\n",
    "plt.ylabel('Humidity %')\n",
    "plt.title('Northern Hemisphere Humidity vs Lattitude')\n",
    "g3_slope, g3_int, g3_r, g3_p, g3_std_err = stats.linregress(NorthernHemisphere_df['Lattitude'],NorthernHemisphere_df['Humidity %'])\n",
    "g3_fit = g3_slope * NorthernHemisphere_df['Lattitude'] + g3_int\n",
    "plt.plot(NorthernHemisphere_df['Lattitude'],g3_fit,\"--\")"
   ]
  },
  {
   "cell_type": "code",
   "execution_count": 197,
   "metadata": {},
   "outputs": [
    {
     "data": {
      "image/png": "[encoded data removed]",
      "text/plain": [
       "<Figure size 432x288 with 1 Axes>"
      ]
     },
     "metadata": {
      "needs_background": "light"
     },
     "output_type": "display_data"
    }
   ],
   "source": [
    "graph4 = plt.scatter(SouthernHemisphere_df['Lattitude'],SouthernHemisphere_df['Humidity %'])\n",
    "plt.xlabel('Lattitude')\n",
    "plt.ylabel('Humidity %')\n",
    "plt.title('Southern Hemisphere Humidity vs Lattitude')\n",
    "g4_slope, g4_int, g4_r, g4_p, g4_std_err = stats.linregress(SouthernHemisphere_df['Lattitude'],SouthernHemisphere_df['Humidity %'])\n",
    "g4_fit = g4_slope * SouthernHemisphere_df['Lattitude'] + g4_int\n",
    "plt.plot(SouthernHemisphere_df['Lattitude'],g4_fit,\"--\")\n",
    "plt.show()"
   ]
  },
  {
   "cell_type": "code",
   "execution_count": 198,
   "metadata": {},
   "outputs": [
    {
     "data": {
      "text/plain": [
       "[<matplotlib.lines.Line2D at 0x1becbba8198>]"
      ]
     },
     "execution_count": 198,
     "metadata": {},
     "output_type": "execute_result"
    },
    {
     "data": {
      "image/png": "[encoded data removed]",
      "text/plain": [
       "<Figure size 432x288 with 1 Axes>"
      ]
     },
     "metadata": {
      "needs_background": "light"
     },
     "output_type": "display_data"
    }
   ],
   "source": [
    "graph5 = plt.scatter(NorthernHemisphere_df['Lattitude'],NorthernHemisphere_df['Cloudiness %'])\n",
    "plt.xlabel('Lattitude')\n",
    "plt.ylabel('Cloudiness %')\n",
    "plt.title('Northern Hemisphere Cloudiness vs Lattitude')\n",
    "g5_slope, g5_int, g5_r, g5_p, g5_std_err = stats.linregress(NorthernHemisphere_df['Lattitude'],NorthernHemisphere_df['Cloudiness %'])\n",
    "g5_fit = g5_slope * NorthernHemisphere_df['Lattitude'] + g5_int\n",
    "plt.plot(NorthernHemisphere_df['Lattitude'],g5_fit,\"--\")"
   ]
  },
  {
   "cell_type": "code",
   "execution_count": 199,
   "metadata": {},
   "outputs": [
    {
     "data": {
      "image/png": "[encoded data removed]",
      "text/plain": [
       "<Figure size 432x288 with 1 Axes>"
      ]
     },
     "metadata": {
      "needs_background": "light"
     },
     "output_type": "display_data"
    }
   ],
   "source": [
    "graph6 = plt.scatter(SouthernHemisphere_df['Lattitude'],SouthernHemisphere_df['Cloudiness %'])\n",
    "plt.xlabel('Lattitude')\n",
    "plt.ylabel('Cloudiness %')\n",
    "plt.title('Southern Hemisphere Cloudiness vs Lattitude')\n",
    "g6_slope, g6_int, g6_r, g6_p, g6_std_err = stats.linregress(SouthernHemisphere_df['Lattitude'],SouthernHemisphere_df['Cloudiness %'])\n",
    "g6_fit = g6_slope * SouthernHemisphere_df['Lattitude'] + g6_int\n",
    "plt.plot(SouthernHemisphere_df['Lattitude'],g6_fit,\"--\")\n",
    "\n",
    "plt.savefig(savefolder + 'Southern Hemisphere Cloudiness vs Lattitude.jpg', dpi = 300)\n",
    "\n",
    "plt.show()"
   ]
  },
  {
   "cell_type": "code",
   "execution_count": 200,
   "metadata": {},
   "outputs": [
    {
     "data": {
      "text/plain": [
       "[<matplotlib.lines.Line2D at 0x1becbc4bfd0>]"
      ]
     },
     "execution_count": 200,
     "metadata": {},
     "output_type": "execute_result"
    },
    {
     "data": {
      "image/png": "[encoded data removed]",
      "text/plain": [
       "<Figure size 432x288 with 1 Axes>"
      ]
     },
     "metadata": {
      "needs_background": "light"
     },
     "output_type": "display_data"
    }
   ],
   "source": [
    "graph7 = plt.scatter(NorthernHemisphere_df['Lattitude'],NorthernHemisphere_df['Wind Speed (mph)'])\n",
    "plt.xlabel('Lattitude')\n",
    "plt.ylabel('Wind Speed (mph)')\n",
    "plt.title('Northern Hemisphere Wind Speed vs Lattitude')\n",
    "g7_slope, g7_int, g7_r, g7_p, g7_std_err = stats.linregress(NorthernHemisphere_df['Lattitude'],NorthernHemisphere_df['Wind Speed (mph)'])\n",
    "g7_fit = g7_slope * NorthernHemisphere_df['Lattitude'] + g7_int\n",
    "plt.plot(NorthernHemisphere_df['Lattitude'],g7_fit,\"--\")\n",
    "\n",
    "plt.savefig(savefolder + 'Northern Hemisphere Wind Speed vs Lattitude.jpg', dpi = 300)\n",
    "\n",
    "plt.show()"
   ]
  },
  {
   "cell_type": "code",
   "execution_count": 236,
   "metadata": {},
   "outputs": [
    {
     "data": {
      "image/png": "[encoded data removed]",
      "text/plain": [
       "<Figure size 432x288 with 1 Axes>"
      ]
     },
     "metadata": {
      "needs_background": "light"
     },
     "output_type": "display_data"
    }
   ],
   "source": [
    "graph8 = plt.scatter(SouthernHemisphere_df['Lattitude'],SouthernHemisphere_df['Wind Speed (mph)'])\n",
    "plt.xlabel('Lattitude')\n",
    "plt.ylabel('Wind Speed (mph)')\n",
    "plt.title('Southern Hemisphere Wind Speed vs Lattitude')\n",
    "g8_slope, g8_int, g8_r, g8_p, g8_std_err = stats.linregress(SouthernHemisphere_df['Lattitude'],SouthernHemisphere_df['Wind Speed (mph)'])\n",
    "g8_fit = g8_slope * SouthernHemisphere_df['Lattitude'] + g8_int\n",
    "plt.plot(SouthernHemisphere_df['Lattitude'],g8_fit,\"--\")\n",
    "\n",
    "plt.savefig(savefolder + 'Southern Hemisphere Wind Speed vs Lattitude.jpg', dpi = 300)\n",
    "\n",
    "plt.show()"
   ]
  },
  {
   "cell_type": "code",
   "execution_count": null,
   "metadata": {},
   "outputs": [],
   "source": []
  }
 ],
 "metadata": {
  "kernelspec": {
   "display_name": "Python 3",
   "language": "python",
   "name": "python3"
  },
  "language_info": {
   "codemirror_mode": {
    "name": "ipython",
    "version": 3
   },
   "file_extension": ".py",
   "mimetype": "text/x-python",
   "name": "python",
   "nbconvert_exporter": "python",
   "pygments_lexer": "ipython3",
   "version": "3.6.10"
  }
 },
 "nbformat": 4,
 "nbformat_minor": 4
}
