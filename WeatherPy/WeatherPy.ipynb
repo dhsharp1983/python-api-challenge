{
 "cells": [
  {
   "cell_type": "code",
   "execution_count": null,
   "metadata": {},
   "outputs": [],
   "source": []
  },
  {
   "cell_type": "code",
   "execution_count": 160,
   "metadata": {},
   "outputs": [],
   "source": [
    "from config import gkey\n",
    "from config import weatherkey\n",
    "from citipy import citipy\n",
    "import numpy as np\n",
    "import pandas as pd\n",
    "import requests\n",
    "import json\n",
    "from pprint import pprint\n",
    "from matplotlib import pyplot as plt\n",
    "from scipy import stats"
   ]
  },
  {
   "cell_type": "code",
   "execution_count": null,
   "metadata": {},
   "outputs": [],
   "source": [
    "# Build Cities Table \n",
    "# define empty lists\n",
    "citylist = []\n",
    "latlist = []\n",
    "longlist = []\n",
    "countrycodelist = []\n",
    "loopcount = 0\n",
    "\n",
    "# define length of script\n",
    "MaxCities = 5\n",
    "\n",
    "\n",
    "# create dataframe \n",
    "City_df = pd.DataFrame()\n",
    "header_list = ['Lattitude','Longitude']\n",
    "City_df = City_df.reindex(columns = header_list)      \n",
    "\n",
    "# lats and longs\n",
    "for cities in range(1,(MaxCities +1)):\n",
    "    cities_lat = round(np.random.uniform(-90, 90),4)\n",
    "    latlist.append(cities_lat)\n",
    "    cities_long = round(np.random.uniform(-180, 180),4)\n",
    "    longlist.append(cities_long)\n",
    "\n",
    "# append Lattitude and Longitude to DF\n",
    "City_df['Lattitude'] = pd.Series(latlist)\n",
    "City_df['Longitude'] = pd.Series(longlist)\n",
    "\n",
    "\n",
    "# Get Cities from PyCities\n",
    "for i in range(0,len(City_df['Lattitude'])):\n",
    "    lat = City_df.iloc[i]['Lattitude']\n",
    "    long = City_df.iloc[i]['Longitude']\n",
    "    cityname = citipy.nearest_city(lat,long).city_name.title()\n",
    "    citycountry = citipy.nearest_city(lat,long).country_code.upper()\n",
    "#     print(f'{lat} {long} {cityname} {citycountry}')\n",
    "    citylist.append(cityname)\n",
    "    countrycodelist.append(citycountry)\n",
    "\n",
    "# Append Cities to DF\n",
    "City_df.insert(0,'City',citylist)\n",
    "City_df.insert(1, 'Country', countrycodelist)\n",
    "City_df"
   ]
  },
  {
   "cell_type": "code",
   "execution_count": null,
   "metadata": {},
   "outputs": [],
   "source": [
    "# Edit Dataframe and add columns\n",
    "\n",
    "City_df['Temperature C'] = \"\"\n",
    "City_df['Temperature F'] = \"\"\n",
    "City_df['Revised Lattitude'] = \"\"\n",
    "City_df['Revised Longitude'] = \"\"\n",
    "City_df['Humidity %'] = \"\"\n",
    "City_df['Cloudiness %'] = \"\"\n",
    "City_df['Wind Speed (mph)'] = \"\"\n",
    "City_df"
   ]
  },
  {
   "cell_type": "code",
   "execution_count": null,
   "metadata": {},
   "outputs": [],
   "source": [
    "# api.openweathermap.org/data/2.5/weather?q=London,uk&appid={API key}\n",
    "\n",
    "# build URL\n",
    "base_url = 'http://api.openweathermap.org/data/2.5/weather?q='\n",
    "# city = \"Sao Filipe\"\n",
    "# country = 'CV'\n",
    "comma = ','\n",
    "andsign = '&'\n",
    "\n",
    "\n",
    "# API GET & JSON\n",
    "for index, row in City_df.iterrows():\n",
    "    city = row['City']\n",
    "    country = row['Country']\n",
    "    full_url = base_url + city + comma + country + '&appid=' + weatherkey\n",
    "    response = requests.get(full_url) \n",
    "    parsed_response = response.json()\n",
    "    try:\n",
    "        City_df.at[index,'Temperature C'] = (parsed_response[\"main\"][\"temp_max\"] - 273)\n",
    "        City_df.at[index,'Temperature F'] = (parsed_response[\"main\"][\"temp_max\"] * 1.8 - 457.6)\n",
    "        City_df.at[index,'Revised Lattitude'] = parsed_response[\"coord\"][\"lat\"]\n",
    "        City_df.at[index,'Revised Longitude'] = parsed_response[\"coord\"][\"lon\"]\n",
    "        City_df.at[index,'Humidity %'] = parsed_response[\"main\"][\"humidity\"]\n",
    "        City_df.at[index,'Cloudiness %'] = parsed_response[\"clouds\"][\"all\"]\n",
    "        City_df.at[index,'Wind Speed (mph)'] = (parsed_response[\"wind\"][\"speed\"] * 2.24)\n",
    "        print('city found: ' + city + \" ,\" + country)\n",
    "    except:\n",
    "        print('City ' + city + ' not found! skipping')\n",
    "        next\n",
    "#     print(city + \" \" + str(CityTemp))\n",
    "\n",
    "\n"
   ]
  },
  {
   "cell_type": "code",
   "execution_count": null,
   "metadata": {},
   "outputs": [],
   "source": [
    "City_df"
   ]
  },
  {
   "cell_type": "code",
   "execution_count": null,
   "metadata": {},
   "outputs": [],
   "source": [
    "city = \"Busselton\"\n",
    "country = 'AU'\n",
    "full_url = base_url + city + comma + country + '&appid=' + weatherkey\n",
    "response = requests.get(full_url) \n",
    "parsed_response = response.json()\n",
    "# CityTemp = parsed_response[\"main\"][\"temp\"]\n",
    "pprint(parsed_response)\n"
   ]
  },
  {
   "cell_type": "code",
   "execution_count": null,
   "metadata": {},
   "outputs": [],
   "source": [
    "if 'Bluff' in City_df['City'].values:\n",
    "    print('yep!')\n",
    "\n"
   ]
  },
  {
   "cell_type": "code",
   "execution_count": 127,
   "metadata": {},
   "outputs": [
    {
     "data": {
      "text/plain": [
       "City                 object\n",
       "Country              object\n",
       "Lattitude           float64\n",
       "Longitude           float64\n",
       "Temperature C       float64\n",
       "Temperature F       float64\n",
       "Humidity %          float64\n",
       "Cloudiness %        float64\n",
       "Wind Speed (mph)    float64\n",
       "dtype: object"
      ]
     },
     "execution_count": 127,
     "metadata": {},
     "output_type": "execute_result"
    }
   ],
   "source": [
    "# define length of script\n",
    "MaxCities = 20\n",
    "\n",
    "# create dataframe \n",
    "City_df = pd.DataFrame()\n",
    "header_list = ['City','Country','Lattitude','Longitude','Temperature C','Temperature F','Humidity %','Cloudiness %','Wind Speed (mph)']\n",
    "City_df = City_df.reindex(columns = header_list)\n",
    "City_df['City']= City_df['City'].astype(str)\n",
    "City_df['Country']= City_df['Country'].astype(str)\n",
    "City_df.dtypes"
   ]
  },
  {
   "cell_type": "code",
   "execution_count": 144,
   "metadata": {},
   "outputs": [
    {
     "name": "stdout",
     "output_type": "stream",
     "text": [
      "Albany is a Duplicate City, Restart!\n",
      "City Taolanaro not found! skipping!\n",
      "City Airai not found! skipping!\n",
      "city found: Ushuaia ,AR\n",
      "city found: East London ,ZA\n",
      "city found: Barrow ,US\n",
      "Hermanus is a Duplicate City, Restart!\n",
      "City Almajiu not found! skipping!\n",
      "city found: Faanui ,PF\n",
      "Bredasdorp is a Duplicate City, Restart!\n",
      "City Illoqqortoormiut not found! skipping!\n",
      "city found: Touros ,BR\n",
      "city found: Huarmey ,PE\n",
      "City Taolanaro not found! skipping!\n",
      "city found: Daska ,PK\n",
      "city found: Hobart ,AU\n",
      "city found: Punta Arenas ,CL\n",
      "city found: Grindavik ,IS\n",
      "city found: Chicama ,PE\n",
      "city found: Iqaluit ,CA\n",
      "Punta Arenas is a Duplicate City, Restart!\n",
      "East London is a Duplicate City, Restart!\n",
      "city found: Hermanus ,ZA\n",
      "city found: Saskylakh ,RU\n",
      "Kapaa is a Duplicate City, Restart!\n",
      "city found: Saldanha ,ZA\n",
      "city found: Upernavik ,GL\n",
      "city found: Ucluelet ,CA\n",
      "Kapaa is a Duplicate City, Restart!\n",
      "City Mataura not found! skipping!\n",
      "city found: Shenzhen ,CN\n",
      "city found: Luderitz ,NA\n",
      "Hobart is a Duplicate City, Restart!\n",
      "city found: Butaritari ,KI\n",
      "city found: Eydhafushi ,MV\n",
      "city found: Santa Cruz De La Palma ,ES\n",
      "city found: Castro ,CL\n",
      "city found: Mogapi ,BW\n",
      "city found: Mana ,GF\n"
     ]
    },
    {
     "data": {
      "text/html": [
       "<div>\n",
       "<style scoped>\n",
       "    .dataframe tbody tr th:only-of-type {\n",
       "        vertical-align: middle;\n",
       "    }\n",
       "\n",
       "    .dataframe tbody tr th {\n",
       "        vertical-align: top;\n",
       "    }\n",
       "\n",
       "    .dataframe thead th {\n",
       "        text-align: right;\n",
       "    }\n",
       "</style>\n",
       "<table border=\"1\" class=\"dataframe\">\n",
       "  <thead>\n",
       "    <tr style=\"text-align: right;\">\n",
       "      <th></th>\n",
       "      <th>City</th>\n",
       "      <th>Country</th>\n",
       "      <th>Lattitude</th>\n",
       "      <th>Longitude</th>\n",
       "      <th>Temperature C</th>\n",
       "      <th>Temperature F</th>\n",
       "      <th>Humidity %</th>\n",
       "      <th>Cloudiness %</th>\n",
       "      <th>Wind Speed (mph)</th>\n",
       "    </tr>\n",
       "  </thead>\n",
       "  <tbody>\n",
       "    <tr>\n",
       "      <th>0</th>\n",
       "      <td>Ushuaia</td>\n",
       "      <td>AR</td>\n",
       "      <td>-54.8000</td>\n",
       "      <td>-68.3000</td>\n",
       "      <td>4.15</td>\n",
       "      <td>41.270</td>\n",
       "      <td>93.0</td>\n",
       "      <td>90.0</td>\n",
       "      <td>20.7424</td>\n",
       "    </tr>\n",
       "    <tr>\n",
       "      <th>1</th>\n",
       "      <td>East London</td>\n",
       "      <td>ZA</td>\n",
       "      <td>-33.0153</td>\n",
       "      <td>27.9116</td>\n",
       "      <td>19.15</td>\n",
       "      <td>68.270</td>\n",
       "      <td>94.0</td>\n",
       "      <td>20.0</td>\n",
       "      <td>4.6144</td>\n",
       "    </tr>\n",
       "    <tr>\n",
       "      <th>2</th>\n",
       "      <td>Barrow</td>\n",
       "      <td>US</td>\n",
       "      <td>71.2906</td>\n",
       "      <td>-156.7887</td>\n",
       "      <td>-26.85</td>\n",
       "      <td>-14.530</td>\n",
       "      <td>83.0</td>\n",
       "      <td>1.0</td>\n",
       "      <td>5.7568</td>\n",
       "    </tr>\n",
       "    <tr>\n",
       "      <th>3</th>\n",
       "      <td>Faanui</td>\n",
       "      <td>PF</td>\n",
       "      <td>-16.4833</td>\n",
       "      <td>-151.7500</td>\n",
       "      <td>28.53</td>\n",
       "      <td>85.154</td>\n",
       "      <td>65.0</td>\n",
       "      <td>3.0</td>\n",
       "      <td>5.7344</td>\n",
       "    </tr>\n",
       "    <tr>\n",
       "      <th>4</th>\n",
       "      <td>Touros</td>\n",
       "      <td>BR</td>\n",
       "      <td>-5.1989</td>\n",
       "      <td>-35.4608</td>\n",
       "      <td>25.15</td>\n",
       "      <td>79.070</td>\n",
       "      <td>88.0</td>\n",
       "      <td>0.0</td>\n",
       "      <td>4.6144</td>\n",
       "    </tr>\n",
       "    <tr>\n",
       "      <th>5</th>\n",
       "      <td>Huarmey</td>\n",
       "      <td>PE</td>\n",
       "      <td>-10.0681</td>\n",
       "      <td>-78.1522</td>\n",
       "      <td>22.05</td>\n",
       "      <td>73.490</td>\n",
       "      <td>71.0</td>\n",
       "      <td>100.0</td>\n",
       "      <td>7.1456</td>\n",
       "    </tr>\n",
       "    <tr>\n",
       "      <th>6</th>\n",
       "      <td>Daska</td>\n",
       "      <td>PK</td>\n",
       "      <td>32.3243</td>\n",
       "      <td>74.3497</td>\n",
       "      <td>24.15</td>\n",
       "      <td>77.270</td>\n",
       "      <td>46.0</td>\n",
       "      <td>60.0</td>\n",
       "      <td>4.6144</td>\n",
       "    </tr>\n",
       "    <tr>\n",
       "      <th>7</th>\n",
       "      <td>Hobart</td>\n",
       "      <td>AU</td>\n",
       "      <td>-42.8794</td>\n",
       "      <td>147.3294</td>\n",
       "      <td>21.82</td>\n",
       "      <td>73.076</td>\n",
       "      <td>46.0</td>\n",
       "      <td>20.0</td>\n",
       "      <td>11.5136</td>\n",
       "    </tr>\n",
       "    <tr>\n",
       "      <th>8</th>\n",
       "      <td>Punta Arenas</td>\n",
       "      <td>CL</td>\n",
       "      <td>-53.1500</td>\n",
       "      <td>-70.9167</td>\n",
       "      <td>5.15</td>\n",
       "      <td>43.070</td>\n",
       "      <td>75.0</td>\n",
       "      <td>0.0</td>\n",
       "      <td>31.1136</td>\n",
       "    </tr>\n",
       "    <tr>\n",
       "      <th>9</th>\n",
       "      <td>Grindavik</td>\n",
       "      <td>IS</td>\n",
       "      <td>63.8424</td>\n",
       "      <td>-22.4338</td>\n",
       "      <td>3.15</td>\n",
       "      <td>39.470</td>\n",
       "      <td>75.0</td>\n",
       "      <td>90.0</td>\n",
       "      <td>21.8848</td>\n",
       "    </tr>\n",
       "    <tr>\n",
       "      <th>10</th>\n",
       "      <td>Chicama</td>\n",
       "      <td>PE</td>\n",
       "      <td>-7.8447</td>\n",
       "      <td>-79.1469</td>\n",
       "      <td>22.93</td>\n",
       "      <td>75.074</td>\n",
       "      <td>64.0</td>\n",
       "      <td>87.0</td>\n",
       "      <td>5.4656</td>\n",
       "    </tr>\n",
       "    <tr>\n",
       "      <th>11</th>\n",
       "      <td>Iqaluit</td>\n",
       "      <td>CA</td>\n",
       "      <td>63.7506</td>\n",
       "      <td>-68.5145</td>\n",
       "      <td>-28.74</td>\n",
       "      <td>-17.932</td>\n",
       "      <td>69.0</td>\n",
       "      <td>1.0</td>\n",
       "      <td>13.8208</td>\n",
       "    </tr>\n",
       "    <tr>\n",
       "      <th>12</th>\n",
       "      <td>Hermanus</td>\n",
       "      <td>ZA</td>\n",
       "      <td>-34.4187</td>\n",
       "      <td>19.2345</td>\n",
       "      <td>16.82</td>\n",
       "      <td>64.076</td>\n",
       "      <td>93.0</td>\n",
       "      <td>99.0</td>\n",
       "      <td>10.7296</td>\n",
       "    </tr>\n",
       "    <tr>\n",
       "      <th>13</th>\n",
       "      <td>Saskylakh</td>\n",
       "      <td>RU</td>\n",
       "      <td>71.9167</td>\n",
       "      <td>114.0833</td>\n",
       "      <td>-31.21</td>\n",
       "      <td>-22.378</td>\n",
       "      <td>96.0</td>\n",
       "      <td>98.0</td>\n",
       "      <td>7.2352</td>\n",
       "    </tr>\n",
       "    <tr>\n",
       "      <th>14</th>\n",
       "      <td>Saldanha</td>\n",
       "      <td>ZA</td>\n",
       "      <td>-33.0117</td>\n",
       "      <td>17.9442</td>\n",
       "      <td>15.15</td>\n",
       "      <td>61.070</td>\n",
       "      <td>82.0</td>\n",
       "      <td>12.0</td>\n",
       "      <td>10.3712</td>\n",
       "    </tr>\n",
       "    <tr>\n",
       "      <th>15</th>\n",
       "      <td>Upernavik</td>\n",
       "      <td>GL</td>\n",
       "      <td>72.7868</td>\n",
       "      <td>-56.1549</td>\n",
       "      <td>-12.81</td>\n",
       "      <td>10.742</td>\n",
       "      <td>68.0</td>\n",
       "      <td>99.0</td>\n",
       "      <td>8.7584</td>\n",
       "    </tr>\n",
       "    <tr>\n",
       "      <th>16</th>\n",
       "      <td>Ucluelet</td>\n",
       "      <td>CA</td>\n",
       "      <td>48.9329</td>\n",
       "      <td>-125.5528</td>\n",
       "      <td>5.15</td>\n",
       "      <td>43.070</td>\n",
       "      <td>90.0</td>\n",
       "      <td>100.0</td>\n",
       "      <td>11.8496</td>\n",
       "    </tr>\n",
       "    <tr>\n",
       "      <th>17</th>\n",
       "      <td>Shenzhen</td>\n",
       "      <td>CN</td>\n",
       "      <td>22.5455</td>\n",
       "      <td>114.0683</td>\n",
       "      <td>27.15</td>\n",
       "      <td>82.670</td>\n",
       "      <td>69.0</td>\n",
       "      <td>20.0</td>\n",
       "      <td>6.7200</td>\n",
       "    </tr>\n",
       "    <tr>\n",
       "      <th>18</th>\n",
       "      <td>Luderitz</td>\n",
       "      <td>NA</td>\n",
       "      <td>-26.6481</td>\n",
       "      <td>15.1594</td>\n",
       "      <td>18.44</td>\n",
       "      <td>66.992</td>\n",
       "      <td>73.0</td>\n",
       "      <td>67.0</td>\n",
       "      <td>22.8704</td>\n",
       "    </tr>\n",
       "    <tr>\n",
       "      <th>19</th>\n",
       "      <td>Butaritari</td>\n",
       "      <td>KI</td>\n",
       "      <td>3.0707</td>\n",
       "      <td>172.7902</td>\n",
       "      <td>28.08</td>\n",
       "      <td>84.344</td>\n",
       "      <td>77.0</td>\n",
       "      <td>36.0</td>\n",
       "      <td>17.2480</td>\n",
       "    </tr>\n",
       "    <tr>\n",
       "      <th>20</th>\n",
       "      <td>Eydhafushi</td>\n",
       "      <td>MV</td>\n",
       "      <td>5.1033</td>\n",
       "      <td>73.0708</td>\n",
       "      <td>28.32</td>\n",
       "      <td>84.776</td>\n",
       "      <td>71.0</td>\n",
       "      <td>39.0</td>\n",
       "      <td>8.6688</td>\n",
       "    </tr>\n",
       "    <tr>\n",
       "      <th>21</th>\n",
       "      <td>Santa Cruz De La Palma</td>\n",
       "      <td>ES</td>\n",
       "      <td>28.6835</td>\n",
       "      <td>-17.7642</td>\n",
       "      <td>17.15</td>\n",
       "      <td>64.670</td>\n",
       "      <td>59.0</td>\n",
       "      <td>90.0</td>\n",
       "      <td>12.6784</td>\n",
       "    </tr>\n",
       "    <tr>\n",
       "      <th>22</th>\n",
       "      <td>Castro</td>\n",
       "      <td>CL</td>\n",
       "      <td>-42.4721</td>\n",
       "      <td>-73.7732</td>\n",
       "      <td>11.82</td>\n",
       "      <td>55.076</td>\n",
       "      <td>89.0</td>\n",
       "      <td>100.0</td>\n",
       "      <td>1.0080</td>\n",
       "    </tr>\n",
       "    <tr>\n",
       "      <th>23</th>\n",
       "      <td>Mogapi</td>\n",
       "      <td>BW</td>\n",
       "      <td>-22.3230</td>\n",
       "      <td>27.8349</td>\n",
       "      <td>22.85</td>\n",
       "      <td>74.930</td>\n",
       "      <td>57.0</td>\n",
       "      <td>1.0</td>\n",
       "      <td>8.9600</td>\n",
       "    </tr>\n",
       "    <tr>\n",
       "      <th>24</th>\n",
       "      <td>Mana</td>\n",
       "      <td>GF</td>\n",
       "      <td>5.6592</td>\n",
       "      <td>-53.7767</td>\n",
       "      <td>24.04</td>\n",
       "      <td>77.072</td>\n",
       "      <td>86.0</td>\n",
       "      <td>13.0</td>\n",
       "      <td>7.1904</td>\n",
       "    </tr>\n",
       "  </tbody>\n",
       "</table>\n",
       "</div>"
      ],
      "text/plain": [
       "                      City Country  Lattitude  Longitude  Temperature C  \\\n",
       "0                  Ushuaia      AR   -54.8000   -68.3000           4.15   \n",
       "1              East London      ZA   -33.0153    27.9116          19.15   \n",
       "2                   Barrow      US    71.2906  -156.7887         -26.85   \n",
       "3                   Faanui      PF   -16.4833  -151.7500          28.53   \n",
       "4                   Touros      BR    -5.1989   -35.4608          25.15   \n",
       "5                  Huarmey      PE   -10.0681   -78.1522          22.05   \n",
       "6                    Daska      PK    32.3243    74.3497          24.15   \n",
       "7                   Hobart      AU   -42.8794   147.3294          21.82   \n",
       "8             Punta Arenas      CL   -53.1500   -70.9167           5.15   \n",
       "9                Grindavik      IS    63.8424   -22.4338           3.15   \n",
       "10                 Chicama      PE    -7.8447   -79.1469          22.93   \n",
       "11                 Iqaluit      CA    63.7506   -68.5145         -28.74   \n",
       "12                Hermanus      ZA   -34.4187    19.2345          16.82   \n",
       "13               Saskylakh      RU    71.9167   114.0833         -31.21   \n",
       "14                Saldanha      ZA   -33.0117    17.9442          15.15   \n",
       "15               Upernavik      GL    72.7868   -56.1549         -12.81   \n",
       "16                Ucluelet      CA    48.9329  -125.5528           5.15   \n",
       "17                Shenzhen      CN    22.5455   114.0683          27.15   \n",
       "18                Luderitz      NA   -26.6481    15.1594          18.44   \n",
       "19              Butaritari      KI     3.0707   172.7902          28.08   \n",
       "20              Eydhafushi      MV     5.1033    73.0708          28.32   \n",
       "21  Santa Cruz De La Palma      ES    28.6835   -17.7642          17.15   \n",
       "22                  Castro      CL   -42.4721   -73.7732          11.82   \n",
       "23                  Mogapi      BW   -22.3230    27.8349          22.85   \n",
       "24                    Mana      GF     5.6592   -53.7767          24.04   \n",
       "\n",
       "    Temperature F  Humidity %  Cloudiness %  Wind Speed (mph)  \n",
       "0          41.270        93.0          90.0           20.7424  \n",
       "1          68.270        94.0          20.0            4.6144  \n",
       "2         -14.530        83.0           1.0            5.7568  \n",
       "3          85.154        65.0           3.0            5.7344  \n",
       "4          79.070        88.0           0.0            4.6144  \n",
       "5          73.490        71.0         100.0            7.1456  \n",
       "6          77.270        46.0          60.0            4.6144  \n",
       "7          73.076        46.0          20.0           11.5136  \n",
       "8          43.070        75.0           0.0           31.1136  \n",
       "9          39.470        75.0          90.0           21.8848  \n",
       "10         75.074        64.0          87.0            5.4656  \n",
       "11        -17.932        69.0           1.0           13.8208  \n",
       "12         64.076        93.0          99.0           10.7296  \n",
       "13        -22.378        96.0          98.0            7.2352  \n",
       "14         61.070        82.0          12.0           10.3712  \n",
       "15         10.742        68.0          99.0            8.7584  \n",
       "16         43.070        90.0         100.0           11.8496  \n",
       "17         82.670        69.0          20.0            6.7200  \n",
       "18         66.992        73.0          67.0           22.8704  \n",
       "19         84.344        77.0          36.0           17.2480  \n",
       "20         84.776        71.0          39.0            8.6688  \n",
       "21         64.670        59.0          90.0           12.6784  \n",
       "22         55.076        89.0         100.0            1.0080  \n",
       "23         74.930        57.0           1.0            8.9600  \n",
       "24         77.072        86.0          13.0            7.1904  "
      ]
     },
     "execution_count": 144,
     "metadata": {},
     "output_type": "execute_result"
    }
   ],
   "source": [
    "loopcount = 0\n",
    "MaxCities = 25\n",
    "\n",
    "while loopcount < MaxCities:\n",
    "    rowlist = []\n",
    "    # set random lats and longs\n",
    "    rand_lat = round(np.random.uniform(-90, 90),4)\n",
    "    rand_long = round(np.random.uniform(-180, 180),4)\n",
    "#     print(str(rand_lat) + \" \" + str(rand_long))\n",
    "    # get city name and counry \n",
    "    cityname = citipy.nearest_city(rand_lat,rand_long).city_name.title()\n",
    "    citycountry = citipy.nearest_city(rand_lat,rand_long).country_code.upper()\n",
    "#     print(cityname + \" \" + citycountry)\n",
    "    # test if city name already in list, and restart if so\n",
    "    if cityname in City_df['City'].values:\n",
    "        print(f'{cityname} is a Duplicate City, Restart!')\n",
    "        continue\n",
    "    # generate url and hit API \n",
    "    full_url = base_url + cityname + comma + citycountry + '&appid=' + weatherkey\n",
    "    response = requests.get(full_url) \n",
    "    parsed_response = response.json()\n",
    "    # attempt to load data into DF, if city was found and values can be parsed \n",
    "    try:\n",
    "        City_df.at[loopcount, 'City']  = cityname    \n",
    "        City_df.at[loopcount, 'Country'] = citycountry\n",
    "        City_df.at[loopcount, 'Temperature C'] = (parsed_response[\"main\"][\"temp_max\"] - 273)\n",
    "        City_df.at[loopcount, 'Temperature F'] = (parsed_response[\"main\"][\"temp_max\"] * 1.8 - 457.6)\n",
    "        City_df.at[loopcount, 'Lattitude'] = parsed_response[\"coord\"][\"lat\"]\n",
    "        City_df.at[loopcount, 'Longitude'] = parsed_response[\"coord\"][\"lon\"]\n",
    "        City_df.at[loopcount, 'Humidity %'] = parsed_response[\"main\"][\"humidity\"]\n",
    "        City_df.at[loopcount, 'Cloudiness %'] = parsed_response[\"clouds\"][\"all\"]\n",
    "        City_df.at[loopcount, 'Wind Speed (mph)'] = (parsed_response[\"wind\"][\"speed\"] * 2.24)\n",
    "        print('city found: ' + cityname + \" ,\" + citycountry)\n",
    "        loopcount = loopcount + 1\n",
    "    except:\n",
    "        print('City ' + cityname + ' not found! skipping!')\n",
    "        \n",
    "    \n",
    "    \n",
    "#         City_df.at[index,'Country'] = citycountry\n",
    "#         City_df.at[index,'Temperature C'] = (parsed_response[\"main\"][\"temp_max\"] - 273)\n",
    "#         City_df.at[index,'Temperature F'] = (parsed_response[\"main\"][\"temp_max\"] * 1.8 - 457.6)\n",
    "#         City_df.at[index,'Lattitude'] = parsed_response[\"coord\"][\"lat\"]\n",
    "#         City_df.at[index,'Longitude'] = parsed_response[\"coord\"][\"lon\"]\n",
    "#         City_df.at[index,'Humidity %'] = parsed_response[\"main\"][\"humidity\"]\n",
    "#         City_df.at[index,'Cloudiness %'] = parsed_response[\"clouds\"][\"all\"]\n",
    "#         City_df.at[index,'Wind Speed (mph)'] = (parsed_response[\"wind\"][\"speed\"] * 2.24)\n",
    "\n",
    "\n",
    "\n",
    "    \n",
    "    \n",
    "City_df"
   ]
  },
  {
   "cell_type": "code",
   "execution_count": 145,
   "metadata": {},
   "outputs": [
    {
     "data": {
      "text/plain": [
       "<matplotlib.axes._subplots.AxesSubplot at 0x1bec75caa20>"
      ]
     },
     "execution_count": 145,
     "metadata": {},
     "output_type": "execute_result"
    },
    {
     "data": {
      "image/png": "[encoded data removed]",
      "text/plain": [
       "<Figure size 432x288 with 1 Axes>"
      ]
     },
     "metadata": {
      "needs_background": "light"
     },
     "output_type": "display_data"
    }
   ],
   "source": [
    "City_df.plot.scatter(['Lattitude'],['Temperature C'])"
   ]
  },
  {
   "cell_type": "code",
   "execution_count": 146,
   "metadata": {},
   "outputs": [
    {
     "data": {
      "text/plain": [
       "<matplotlib.axes._subplots.AxesSubplot at 0x1bec7749208>"
      ]
     },
     "execution_count": 146,
     "metadata": {},
     "output_type": "execute_result"
    },
    {
     "data": {
      "image/png": "[encoded data removed]",
      "text/plain": [
       "<Figure size 432x288 with 1 Axes>"
      ]
     },
     "metadata": {
      "needs_background": "light"
     },
     "output_type": "display_data"
    }
   ],
   "source": [
    "City_df.plot.scatter(['Lattitude'],['Humidity %'])"
   ]
  },
  {
   "cell_type": "code",
   "execution_count": 143,
   "metadata": {},
   "outputs": [
    {
     "data": {
      "text/plain": [
       "<matplotlib.axes._subplots.AxesSubplot at 0x1bec766f780>"
      ]
     },
     "execution_count": 143,
     "metadata": {},
     "output_type": "execute_result"
    },
    {
     "data": {
      "image/png": "[encoded data removed]",
      "text/plain": [
       "<Figure size 432x288 with 1 Axes>"
      ]
     },
     "metadata": {
      "needs_background": "light"
     },
     "output_type": "display_data"
    }
   ],
   "source": [
    "City_df.plot.scatter(['Lattitude'],['Cloudiness %'])"
   ]
  },
  {
   "cell_type": "code",
   "execution_count": 147,
   "metadata": {},
   "outputs": [
    {
     "data": {
      "text/plain": [
       "<matplotlib.axes._subplots.AxesSubplot at 0x1bec77a8748>"
      ]
     },
     "execution_count": 147,
     "metadata": {},
     "output_type": "execute_result"
    },
    {
     "data": {
      "image/png": "[encoded data removed]",
      "text/plain": [
       "<Figure size 432x288 with 1 Axes>"
      ]
     },
     "metadata": {
      "needs_background": "light"
     },
     "output_type": "display_data"
    }
   ],
   "source": [
    "City_df.plot.scatter(['Lattitude'],['Wind Speed (mph)'])"
   ]
  },
  {
   "cell_type": "code",
   "execution_count": 155,
   "metadata": {},
   "outputs": [
    {
     "data": {
      "text/html": [
       "<div>\n",
       "<style scoped>\n",
       "    .dataframe tbody tr th:only-of-type {\n",
       "        vertical-align: middle;\n",
       "    }\n",
       "\n",
       "    .dataframe tbody tr th {\n",
       "        vertical-align: top;\n",
       "    }\n",
       "\n",
       "    .dataframe thead th {\n",
       "        text-align: right;\n",
       "    }\n",
       "</style>\n",
       "<table border=\"1\" class=\"dataframe\">\n",
       "  <thead>\n",
       "    <tr style=\"text-align: right;\">\n",
       "      <th></th>\n",
       "      <th>City</th>\n",
       "      <th>Country</th>\n",
       "      <th>Lattitude</th>\n",
       "      <th>Longitude</th>\n",
       "      <th>Temperature C</th>\n",
       "      <th>Temperature F</th>\n",
       "      <th>Humidity %</th>\n",
       "      <th>Cloudiness %</th>\n",
       "      <th>Wind Speed (mph)</th>\n",
       "    </tr>\n",
       "  </thead>\n",
       "  <tbody>\n",
       "    <tr>\n",
       "      <th>0</th>\n",
       "      <td>Ushuaia</td>\n",
       "      <td>AR</td>\n",
       "      <td>-54.8000</td>\n",
       "      <td>-68.3000</td>\n",
       "      <td>4.15</td>\n",
       "      <td>41.270</td>\n",
       "      <td>93.0</td>\n",
       "      <td>90.0</td>\n",
       "      <td>20.7424</td>\n",
       "    </tr>\n",
       "    <tr>\n",
       "      <th>1</th>\n",
       "      <td>East London</td>\n",
       "      <td>ZA</td>\n",
       "      <td>-33.0153</td>\n",
       "      <td>27.9116</td>\n",
       "      <td>19.15</td>\n",
       "      <td>68.270</td>\n",
       "      <td>94.0</td>\n",
       "      <td>20.0</td>\n",
       "      <td>4.6144</td>\n",
       "    </tr>\n",
       "    <tr>\n",
       "      <th>3</th>\n",
       "      <td>Faanui</td>\n",
       "      <td>PF</td>\n",
       "      <td>-16.4833</td>\n",
       "      <td>-151.7500</td>\n",
       "      <td>28.53</td>\n",
       "      <td>85.154</td>\n",
       "      <td>65.0</td>\n",
       "      <td>3.0</td>\n",
       "      <td>5.7344</td>\n",
       "    </tr>\n",
       "    <tr>\n",
       "      <th>4</th>\n",
       "      <td>Touros</td>\n",
       "      <td>BR</td>\n",
       "      <td>-5.1989</td>\n",
       "      <td>-35.4608</td>\n",
       "      <td>25.15</td>\n",
       "      <td>79.070</td>\n",
       "      <td>88.0</td>\n",
       "      <td>0.0</td>\n",
       "      <td>4.6144</td>\n",
       "    </tr>\n",
       "    <tr>\n",
       "      <th>5</th>\n",
       "      <td>Huarmey</td>\n",
       "      <td>PE</td>\n",
       "      <td>-10.0681</td>\n",
       "      <td>-78.1522</td>\n",
       "      <td>22.05</td>\n",
       "      <td>73.490</td>\n",
       "      <td>71.0</td>\n",
       "      <td>100.0</td>\n",
       "      <td>7.1456</td>\n",
       "    </tr>\n",
       "    <tr>\n",
       "      <th>7</th>\n",
       "      <td>Hobart</td>\n",
       "      <td>AU</td>\n",
       "      <td>-42.8794</td>\n",
       "      <td>147.3294</td>\n",
       "      <td>21.82</td>\n",
       "      <td>73.076</td>\n",
       "      <td>46.0</td>\n",
       "      <td>20.0</td>\n",
       "      <td>11.5136</td>\n",
       "    </tr>\n",
       "    <tr>\n",
       "      <th>8</th>\n",
       "      <td>Punta Arenas</td>\n",
       "      <td>CL</td>\n",
       "      <td>-53.1500</td>\n",
       "      <td>-70.9167</td>\n",
       "      <td>5.15</td>\n",
       "      <td>43.070</td>\n",
       "      <td>75.0</td>\n",
       "      <td>0.0</td>\n",
       "      <td>31.1136</td>\n",
       "    </tr>\n",
       "    <tr>\n",
       "      <th>10</th>\n",
       "      <td>Chicama</td>\n",
       "      <td>PE</td>\n",
       "      <td>-7.8447</td>\n",
       "      <td>-79.1469</td>\n",
       "      <td>22.93</td>\n",
       "      <td>75.074</td>\n",
       "      <td>64.0</td>\n",
       "      <td>87.0</td>\n",
       "      <td>5.4656</td>\n",
       "    </tr>\n",
       "    <tr>\n",
       "      <th>12</th>\n",
       "      <td>Hermanus</td>\n",
       "      <td>ZA</td>\n",
       "      <td>-34.4187</td>\n",
       "      <td>19.2345</td>\n",
       "      <td>16.82</td>\n",
       "      <td>64.076</td>\n",
       "      <td>93.0</td>\n",
       "      <td>99.0</td>\n",
       "      <td>10.7296</td>\n",
       "    </tr>\n",
       "    <tr>\n",
       "      <th>14</th>\n",
       "      <td>Saldanha</td>\n",
       "      <td>ZA</td>\n",
       "      <td>-33.0117</td>\n",
       "      <td>17.9442</td>\n",
       "      <td>15.15</td>\n",
       "      <td>61.070</td>\n",
       "      <td>82.0</td>\n",
       "      <td>12.0</td>\n",
       "      <td>10.3712</td>\n",
       "    </tr>\n",
       "    <tr>\n",
       "      <th>18</th>\n",
       "      <td>Luderitz</td>\n",
       "      <td>NA</td>\n",
       "      <td>-26.6481</td>\n",
       "      <td>15.1594</td>\n",
       "      <td>18.44</td>\n",
       "      <td>66.992</td>\n",
       "      <td>73.0</td>\n",
       "      <td>67.0</td>\n",
       "      <td>22.8704</td>\n",
       "    </tr>\n",
       "    <tr>\n",
       "      <th>22</th>\n",
       "      <td>Castro</td>\n",
       "      <td>CL</td>\n",
       "      <td>-42.4721</td>\n",
       "      <td>-73.7732</td>\n",
       "      <td>11.82</td>\n",
       "      <td>55.076</td>\n",
       "      <td>89.0</td>\n",
       "      <td>100.0</td>\n",
       "      <td>1.0080</td>\n",
       "    </tr>\n",
       "    <tr>\n",
       "      <th>23</th>\n",
       "      <td>Mogapi</td>\n",
       "      <td>BW</td>\n",
       "      <td>-22.3230</td>\n",
       "      <td>27.8349</td>\n",
       "      <td>22.85</td>\n",
       "      <td>74.930</td>\n",
       "      <td>57.0</td>\n",
       "      <td>1.0</td>\n",
       "      <td>8.9600</td>\n",
       "    </tr>\n",
       "  </tbody>\n",
       "</table>\n",
       "</div>"
      ],
      "text/plain": [
       "            City Country  Lattitude  Longitude  Temperature C  Temperature F  \\\n",
       "0        Ushuaia      AR   -54.8000   -68.3000           4.15         41.270   \n",
       "1    East London      ZA   -33.0153    27.9116          19.15         68.270   \n",
       "3         Faanui      PF   -16.4833  -151.7500          28.53         85.154   \n",
       "4         Touros      BR    -5.1989   -35.4608          25.15         79.070   \n",
       "5        Huarmey      PE   -10.0681   -78.1522          22.05         73.490   \n",
       "7         Hobart      AU   -42.8794   147.3294          21.82         73.076   \n",
       "8   Punta Arenas      CL   -53.1500   -70.9167           5.15         43.070   \n",
       "10       Chicama      PE    -7.8447   -79.1469          22.93         75.074   \n",
       "12      Hermanus      ZA   -34.4187    19.2345          16.82         64.076   \n",
       "14      Saldanha      ZA   -33.0117    17.9442          15.15         61.070   \n",
       "18      Luderitz      NA   -26.6481    15.1594          18.44         66.992   \n",
       "22        Castro      CL   -42.4721   -73.7732          11.82         55.076   \n",
       "23        Mogapi      BW   -22.3230    27.8349          22.85         74.930   \n",
       "\n",
       "    Humidity %  Cloudiness %  Wind Speed (mph)  \n",
       "0         93.0          90.0           20.7424  \n",
       "1         94.0          20.0            4.6144  \n",
       "3         65.0           3.0            5.7344  \n",
       "4         88.0           0.0            4.6144  \n",
       "5         71.0         100.0            7.1456  \n",
       "7         46.0          20.0           11.5136  \n",
       "8         75.0           0.0           31.1136  \n",
       "10        64.0          87.0            5.4656  \n",
       "12        93.0          99.0           10.7296  \n",
       "14        82.0          12.0           10.3712  \n",
       "18        73.0          67.0           22.8704  \n",
       "22        89.0         100.0            1.0080  \n",
       "23        57.0           1.0            8.9600  "
      ]
     },
     "execution_count": 155,
     "metadata": {},
     "output_type": "execute_result"
    }
   ],
   "source": [
    "# Hemispheric Analysis\n",
    "\n",
    "NorthernHemisphere_df = City_df.loc[(City_df['Lattitude'] < 0)]\n",
    "SouthernHemisphere_df = City_df.loc[(City_df['Lattitude'] > 0)]\n",
    "\n"
   ]
  },
  {
   "cell_type": "code",
   "execution_count": 178,
   "metadata": {},
   "outputs": [
    {
     "data": {
      "text/plain": [
       "[<matplotlib.lines.Line2D at 0x1bec861f7f0>]"
      ]
     },
     "execution_count": 178,
     "metadata": {},
     "output_type": "execute_result"
    },
    {
     "data": {
      "image/png": "[encoded data removed]",
      "text/plain": [
       "<Figure size 432x288 with 1 Axes>"
      ]
     },
     "metadata": {
      "needs_background": "light"
     },
     "output_type": "display_data"
    }
   ],
   "source": [
    "graph1 = plt.scatter(NorthernHemisphere_df['Lattitude'],NorthernHemisphere_df['Temperature C'])\n",
    "plt.xlabel('Lattitude')\n",
    "plt.ylabel('Temperature')\n",
    "plt.title('Northern Hemisphere Temperature vs Lattitude')\n",
    "g1_slope, g1_int, g1_r, g1_p, g1_std_err = stats.linregress(NorthernHemisphere_df['Lattitude'],NorthernHemisphere_df['Temperature C'])\n",
    "g1_fit = g1_slope * NorthernHemisphere_df['Lattitude'] + g1_int\n",
    "plt.plot(NorthernHemisphere_df['Lattitude'],g1_fit,\"--\")"
   ]
  },
  {
   "cell_type": "code",
   "execution_count": 180,
   "metadata": {},
   "outputs": [
    {
     "data": {
      "text/plain": [
       "[<matplotlib.lines.Line2D at 0x1bec8656160>]"
      ]
     },
     "execution_count": 180,
     "metadata": {},
     "output_type": "execute_result"
    },
    {
     "data": {
      "image/png": "[encoded data removed]",
      "text/plain": [
       "<Figure size 432x288 with 1 Axes>"
      ]
     },
     "metadata": {
      "needs_background": "light"
     },
     "output_type": "display_data"
    }
   ],
   "source": [
    "graph2 = plt.scatter(SouthernHemisphere_df['Lattitude'],SouthernHemisphere_df['Temperature C'])\n",
    "plt.xlabel('Lattitude')\n",
    "plt.ylabel('Temperature')\n",
    "plt.title('Southern Hemisphere Temperature vs Lattitude')\n",
    "g2_slope, g2_int, g2_r, g2_p, g2_std_err = stats.linregress(SouthernHemisphere_df['Lattitude'],SouthernHemisphere_df['Temperature C'])\n",
    "g2_fit = g2_slope * SouthernHemisphere_df['Lattitude'] + g2_int\n",
    "plt.plot(SouthernHemisphere_df['Lattitude'],g2_fit,\"--\")"
   ]
  },
  {
   "cell_type": "code",
   "execution_count": 172,
   "metadata": {},
   "outputs": [
    {
     "data": {
      "text/plain": [
       "[<matplotlib.lines.Line2D at 0x1bec9de0c50>]"
      ]
     },
     "execution_count": 172,
     "metadata": {},
     "output_type": "execute_result"
    },
    {
     "data": {
      "image/png": "[encoded data removed]",
      "text/plain": [
       "<Figure size 432x288 with 1 Axes>"
      ]
     },
     "metadata": {
      "needs_background": "light"
     },
     "output_type": "display_data"
    }
   ],
   "source": [
    "graph3 = plt.scatter(NorthernHemisphere_df['Lattitude'],NorthernHemisphere_df['Humidity %'])\n",
    "plt.xlabel('Lattitude')\n",
    "plt.ylabel('Humidity %')\n",
    "plt.title('Northern Hemisphere Humidity vs Lattitude')\n",
    "g3_slope, g3_int, g3_r, g3_p, g3_std_err = stats.linregress(NorthernHemisphere_df['Lattitude'],NorthernHemisphere_df['Humidity %'])\n",
    "g3_fit = g3_slope * NorthernHemisphere_df['Lattitude'] + g3_int\n",
    "plt.plot(NorthernHemisphere_df['Lattitude'],g3_fit,\"--\")"
   ]
  },
  {
   "cell_type": "code",
   "execution_count": 174,
   "metadata": {},
   "outputs": [
    {
     "data": {
      "image/png": "[encoded data removed]",
      "text/plain": [
       "<Figure size 432x288 with 1 Axes>"
      ]
     },
     "metadata": {
      "needs_background": "light"
     },
     "output_type": "display_data"
    }
   ],
   "source": [
    "graph4 = plt.scatter(SouthernHemisphere_df['Lattitude'],SouthernHemisphere_df['Humidity %'])\n",
    "plt.xlabel('Lattitude')\n",
    "plt.ylabel('Humidity')\n",
    "plt.title('Southern Hemisphere Humidity vs Lattitude')\n",
    "g4_slope, g4_int, g4_r, g4_p, g4_std_err = stats.linregress(SouthernHemisphere_df['Lattitude'],SouthernHemisphere_df['Humidity %'])\n",
    "g4_fit = g4_slope * SouthernHemisphere_df['Lattitude'] + g4_int\n",
    "plt.plot(SouthernHemisphere_df['Lattitude'],g4_fit,\"--\")\n",
    "plt.show()"
   ]
  },
  {
   "cell_type": "code",
   "execution_count": 177,
   "metadata": {},
   "outputs": [
    {
     "data": {
      "text/plain": [
       "[<matplotlib.lines.Line2D at 0x1bec9aab898>]"
      ]
     },
     "execution_count": 177,
     "metadata": {},
     "output_type": "execute_result"
    },
    {
     "data": {
      "image/png": "[encoded data removed]",
      "text/plain": [
       "<Figure size 432x288 with 1 Axes>"
      ]
     },
     "metadata": {
      "needs_background": "light"
     },
     "output_type": "display_data"
    }
   ],
   "source": [
    "graph5 = plt.scatter(NorthernHemisphere_df['Lattitude'],NorthernHemisphere_df['Cloudiness %'])\n",
    "plt.xlabel('Lattitude')\n",
    "plt.ylabel('Cloudiness %')\n",
    "plt.title('Northern Hemisphere Cloudiness vs Lattitude')\n",
    "g5_slope, g5_int, g5_r, g5_p, g5_std_err = stats.linregress(NorthernHemisphere_df['Lattitude'],NorthernHemisphere_df['Cloudiness %'])\n",
    "g5_fit = g5_slope * NorthernHemisphere_df['Lattitude'] + g5_int\n",
    "plt.plot(NorthernHemisphere_df['Lattitude'],g5_fit,\"--\")"
   ]
  },
  {
   "cell_type": "code",
   "execution_count": 181,
   "metadata": {},
   "outputs": [
    {
     "data": {
      "image/png": "[encoded data removed]",
      "text/plain": [
       "<Figure size 432x288 with 1 Axes>"
      ]
     },
     "metadata": {
      "needs_background": "light"
     },
     "output_type": "display_data"
    }
   ],
   "source": [
    "graph6 = plt.scatter(SouthernHemisphere_df['Lattitude'],SouthernHemisphere_df['Cloudiness %'])\n",
    "plt.xlabel('Lattitude')\n",
    "plt.ylabel('Cloudiness')\n",
    "plt.title('Southern Hemisphere Cloudiness vs Lattitude')\n",
    "g6_slope, g6_int, g6_r, g6_p, g6_std_err = stats.linregress(SouthernHemisphere_df['Lattitude'],SouthernHemisphere_df['Cloudiness %'])\n",
    "g6_fit = g6_slope * SouthernHemisphere_df['Lattitude'] + g6_int\n",
    "plt.plot(SouthernHemisphere_df['Lattitude'],g6_fit,\"--\")\n",
    "plt.show()"
   ]
  },
  {
   "cell_type": "code",
   "execution_count": 182,
   "metadata": {},
   "outputs": [
    {
     "data": {
      "text/plain": [
       "[<matplotlib.lines.Line2D at 0x1bec9f97b38>]"
      ]
     },
     "execution_count": 182,
     "metadata": {},
     "output_type": "execute_result"
    },
    {
     "data": {
      "image/png": "[encoded data removed]",
      "text/plain": [
       "<Figure size 432x288 with 1 Axes>"
      ]
     },
     "metadata": {
      "needs_background": "light"
     },
     "output_type": "display_data"
    }
   ],
   "source": [
    "graph7 = plt.scatter(NorthernHemisphere_df['Lattitude'],NorthernHemisphere_df['Wind Speed (mph)'])\n",
    "plt.xlabel('Lattitude')\n",
    "plt.ylabel('Wind Speed (mph)')\n",
    "plt.title('Northern Hemisphere Wind Speed vs Lattitude')\n",
    "g7_slope, g7_int, g7_r, g7_p, g7_std_err = stats.linregress(NorthernHemisphere_df['Lattitude'],NorthernHemisphere_df['Wind Speed (mph)'])\n",
    "g7_fit = g7_slope * NorthernHemisphere_df['Lattitude'] + g7_int\n",
    "plt.plot(NorthernHemisphere_df['Lattitude'],g7_fit,\"--\")"
   ]
  },
  {
   "cell_type": "code",
   "execution_count": 185,
   "metadata": {},
   "outputs": [
    {
     "data": {
      "image/png": "[encoded data removed]",
      "text/plain": [
       "<Figure size 432x288 with 1 Axes>"
      ]
     },
     "metadata": {
      "needs_background": "light"
     },
     "output_type": "display_data"
    }
   ],
   "source": [
    "graph8 = plt.scatter(SouthernHemisphere_df['Lattitude'],SouthernHemisphere_df['Wind Speed (mph)'])\n",
    "plt.xlabel('Lattitude')\n",
    "plt.ylabel('Wind Speed (mph)')\n",
    "plt.title('Southern Hemisphere Wind Speed vs Lattitude')\n",
    "g8_slope, g8_int, g8_r, g8_p, g8_std_err = stats.linregress(SouthernHemisphere_df['Lattitude'],SouthernHemisphere_df['Wind Speed (mph)'])\n",
    "g8_fit = g8_slope * SouthernHemisphere_df['Lattitude'] + g8_int\n",
    "plt.plot(SouthernHemisphere_df['Lattitude'],g8_fit,\"--\")\n",
    "plt.show()"
   ]
  },
  {
   "cell_type": "code",
   "execution_count": null,
   "metadata": {},
   "outputs": [],
   "source": []
  }
 ],
 "metadata": {
  "kernelspec": {
   "display_name": "Python 3",
   "language": "python",
   "name": "python3"
  },
  "language_info": {
   "codemirror_mode": {
    "name": "ipython",
    "version": 3
   },
   "file_extension": ".py",
   "mimetype": "text/x-python",
   "name": "python",
   "nbconvert_exporter": "python",
   "pygments_lexer": "ipython3",
   "version": "3.6.10"
  }
 },
 "nbformat": 4,
 "nbformat_minor": 4
}
