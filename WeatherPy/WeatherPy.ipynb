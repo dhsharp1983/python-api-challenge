{
 "cells": [
  {
   "cell_type": "code",
   "execution_count": 1,
   "metadata": {},
   "outputs": [
    {
     "name": "stdout",
     "output_type": "stream",
     "text": [
      "test\n"
     ]
    }
   ],
   "source": [
    "print('test')"
   ]
  },
  {
   "cell_type": "code",
   "execution_count": 23,
   "metadata": {},
   "outputs": [],
   "source": [
    "from config import gkey\n",
    "from config import weatherkey\n",
    "from citipy import citipy\n",
    "import numpy as np"
   ]
  },
  {
   "cell_type": "code",
   "execution_count": 113,
   "metadata": {},
   "outputs": [
    {
     "name": "stdout",
     "output_type": "stream",
     "text": [
      "-60.547\n",
      "-42.408\n"
     ]
    }
   ],
   "source": [
    "lat = round(np.random.uniform(-90, 90),3)\n",
    "long = round(np.random.uniform(-180, 180),3)\n",
    "print(lat)\n",
    "print(long)\n"
   ]
  },
  {
   "cell_type": "code",
   "execution_count": 114,
   "metadata": {},
   "outputs": [
    {
     "name": "stdout",
     "output_type": "stream",
     "text": [
      "ushuaia, ar\n"
     ]
    }
   ],
   "source": [
    "city = citipy.nearest_city(lat,long)\n",
    "print(f'{city.city_name}, {city.country_code}')"
   ]
  },
  {
   "cell_type": "code",
   "execution_count": 121,
   "metadata": {},
   "outputs": [
    {
     "data": {
      "text/plain": [
       "'ar'"
      ]
     },
     "execution_count": 121,
     "metadata": {},
     "output_type": "execute_result"
    }
   ],
   "source": [
    "city.country_code"
   ]
  },
  {
   "cell_type": "code",
   "execution_count": 134,
   "metadata": {},
   "outputs": [
    {
     "name": "stdout",
     "output_type": "stream",
     "text": [
      "berikulskiy\n",
      "yar-sale\n",
      "meadow lake\n",
      "geraldton\n",
      "hambantota\n",
      "severo-kurilsk\n",
      "dolores\n",
      "lebu\n",
      "ribeira grande\n",
      "punta arenas\n",
      "['berikulskiy', 'yar-sale', 'meadow lake', 'geraldton', 'hambantota', 'severo-kurilsk', 'dolores', 'lebu', 'ribeira grande', 'punta arenas']\n"
     ]
    }
   ],
   "source": [
    "# define empty lists\n",
    "citylist = []\n",
    "latlist = []\n",
    "longlist = []\n",
    "\n",
    "# define length of script\n",
    "\n",
    "MaxCities = 10\n",
    "\n",
    "# create latitude list\n",
    "\n",
    "for lats in range(1,MaxCities):\n",
    "    lat = round(np.random.uniform(-90, 90),3)\n",
    "    latlist.append(lat)\n",
    "\n",
    "# create longitude list\n",
    "\n",
    "for longs in range(1,MaxCities):\n",
    "    long = round(np.random.uniform(-180, 180),3)\n",
    "    longlist.append(long)\n",
    "\n",
    "# create list of cities\n",
    "\n",
    "\n",
    "for cities in range(1,(MaxCities +1)):\n",
    "    cities_lat = round(np.random.uniform(-90, 90),4)\n",
    "    cities_long = round(np.random.uniform(-180, 180),4)\n",
    "    city = citipy.nearest_city(cities_lat,cities_long).city_name\n",
    "    citylist.append(city)\n",
    "    print(city)\n",
    "\n",
    "print(citylist)"
   ]
  },
  {
   "cell_type": "code",
   "execution_count": null,
   "metadata": {},
   "outputs": [],
   "source": []
  }
 ],
 "metadata": {
  "kernelspec": {
   "display_name": "Python 3",
   "language": "python",
   "name": "python3"
  },
  "language_info": {
   "codemirror_mode": {
    "name": "ipython",
    "version": 3
   },
   "file_extension": ".py",
   "mimetype": "text/x-python",
   "name": "python",
   "nbconvert_exporter": "python",
   "pygments_lexer": "ipython3",
   "version": "3.6.10"
  }
 },
 "nbformat": 4,
 "nbformat_minor": 4
}
